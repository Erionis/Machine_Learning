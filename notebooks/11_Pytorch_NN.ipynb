{
  "cells": [
    {
      "cell_type": "markdown",
      "metadata": {
        "id": "Il5mKqGXptjL"
      },
      "source": [
        "# `PyTorch` for Deep Learning\n",
        "\n",
        "<a target=\"_blank\" href=\"https://colab.research.google.com/github/GaiaSaveri/intro-to-ml/blob/main/notebooks/Lab-11.Pytorch_NN.ipynb\">\n",
        "  <img src=\"https://colab.research.google.com/assets/colab-badge.svg\" alt=\"Open In Colab\"/>\n",
        "</a>\n",
        "\n",
        "**NOTE**: This notebook is the same as the *non-solved* version.\n",
        "\n",
        "\n",
        "In the following Lab, we will learn how to define, train and evaluate a *Neural Network* model in PyTorch. We will use a simple *Convolutional Neural Network* as an example, and we will train it on the *MNIST* dataset."
      ]
    },
    {
      "cell_type": "code",
      "execution_count": 3,
      "metadata": {
        "id": "v4986m7Bw-ap"
      },
      "outputs": [],
      "source": [
        "import matplotlib.pyplot as plt\n",
        "import numpy as np\n",
        "from time import time\n",
        "\n",
        "import torch\n",
        "import torch.nn as nn # basic building blocks for graphs, layers etc.. \n",
        "import torch.nn.functional as F # dropout, loss, activation functions, and more \n",
        "# visto che lavoreremo con immagini:\n",
        "import torchvision # popular datasets, model architectures, and image transformations for computer vision\n",
        "import torchvision.transforms as transforms # common image transformations"
      ]
    },
    {
      "cell_type": "markdown",
      "metadata": {
        "id": "osc6NnuU1Qzv"
      },
      "source": [
        "## Intro to PyTorch\n",
        "\n",
        "`PyTorch` is a Python/C++-based *Deep Learning* and *scientific computing* package that mainly provides two high-level features:  \n",
        "* **Tensor computation** (like `NumPy`) with strong GPU acceleration \n",
        "* **Deep neural networks** built on an **autograd** system ([more info](https://pytorch.org/tutorials/beginner/introyt/autogradyt_tutorial.html))\n",
        "\n",
        "The flexibility of `PyTorch` and its *Pythonic* interfaces make it the most widely adopted framework for research and development, both in academia and industry.\n",
        "\n",
        "For more info, you can have a look at the [official documentation](https://pytorch.org/docs/stable/index.html) or refer to [this book](https://isip.piconepress.com/courses/temple/ece_4822/resources/books/Deep-Learning-with-PyTorch.pdf).\n",
        "\n",
        "Fun fact: *PyTorch was first created by Meta AI in 2016, and is now the base for Tesla's autopilot!* "
      ]
    },
    {
      "cell_type": "markdown",
      "metadata": {
        "id": "pl6ekzZV1ouw"
      },
      "source": [
        "Like NumPy, PyTorch provides its own multidimensional array class, called `Tensor`. `Tensor`s are essentially the equivalent of NumPy `ndarray`s.\n",
        "* `Tensor` draws a lot of methods from NumPy\n",
        "* `Tensor` has CUDA support (faster!)\n",
        "\n",
        "L'unica differenza è che i Tensori offorno supporto per CUDA per la parallelizzazione"
      ]
    },
    {
      "cell_type": "code",
      "execution_count": 4,
      "metadata": {
        "colab": {
          "base_uri": "https://localhost:8080/"
        },
        "id": "b3jF6TeS1oFD",
        "outputId": "0a2987fb-243d-472b-ba2c-2e2c63dcd9fc"
      },
      "outputs": [
        {
          "name": "stdout",
          "output_type": "stream",
          "text": [
            "x\n",
            "tensor([[1., 5., 4.],\n",
            "        [3., 2., 1.]])\n",
            "\n",
            "\n",
            "y\n",
            "[[1 5 4]\n",
            " [3 2 1]]\n",
            "\n",
            "\n"
          ]
        }
      ],
      "source": [
        "# Pytorch mi crea tensori ottimizzati per la programmazione parallela (CUDA)\n",
        "# create custom Tensor and ndarray\n",
        "x = torch.Tensor([[1,5,4],[3,2,1]]) # x è un tensore\n",
        "y = np.array([[1,5,4],[3,2,1]]) # y è un np.array\n",
        "\n",
        "def pretty_print(obj, title=None):\n",
        "    if title is not None:\n",
        "        print(title)\n",
        "    print(obj)\n",
        "    print(\"\\n\")\n",
        "\n",
        "pretty_print(x, \"x\") # ti ricorda ogni volta che è un tensore\n",
        "pretty_print(y, \"y\")"
      ]
    },
    {
      "attachments": {},
      "cell_type": "markdown",
      "metadata": {
        "id": "NBIlmITU15Pq"
      },
      "source": [
        "What are these types of objects?"
      ]
    },
    {
      "cell_type": "code",
      "execution_count": 5,
      "metadata": {
        "colab": {
          "base_uri": "https://localhost:8080/"
        },
        "id": "71hMA3Ju1T3k",
        "outputId": "72e8d5f8-7f9f-40fe-ccc6-307259f40204"
      },
      "outputs": [
        {
          "name": "stdout",
          "output_type": "stream",
          "text": [
            "torch.float32\n",
            "int32\n"
          ]
        }
      ],
      "source": [
        "print(x.dtype) # viene automaticamente convertito in float32 perchè pensa già alla programmazione parallela\n",
        "print(y.dtype)"
      ]
    },
    {
      "attachments": {},
      "cell_type": "markdown",
      "metadata": {
        "id": "EiH6Nsoi2AYG"
      },
      "source": [
        "`torch` already thinks with Machine Learning in mind as the `Tensor` is implicitly converted to `dtype float32`, while NumPy makes no such assumption.\n",
        "Perchè \"pensa\" già a tutti i calcoli che dovrete fare e cerca di ottimizzare usando già meno bit.\n",
        "For more info on `Tensor` data types, check the beginning of [this page](https://pytorch.org/docs/stable/tensors.html).\n",
        "\n",
        "As in NumPy, we can call the `.shape` attribute to get the shape of the structures. Moreover, `Tensor`s have also the `.size()` method which is analogous to `.shape`."
      ]
    },
    {
      "cell_type": "code",
      "execution_count": 6,
      "metadata": {
        "colab": {
          "base_uri": "https://localhost:8080/"
        },
        "id": "U_8uJmnm2D1u",
        "outputId": "ff499d41-822b-4f9e-cd22-2905f03d2633"
      },
      "outputs": [
        {
          "name": "stdout",
          "output_type": "stream",
          "text": [
            "torch.Size([2, 3])\n",
            "(2, 3)\n",
            "torch.Size([2, 3])\n"
          ]
        }
      ],
      "source": [
        "print(x.shape) # quando uso shape non mi ritorna una tupla ma un torch.Size\n",
        "print(y.shape)\n",
        "print(x.size())"
      ]
    },
    {
      "attachments": {},
      "cell_type": "markdown",
      "metadata": {
        "id": "kun2tPLF2XCR"
      },
      "source": [
        "Notice how a `Tensor` shape is **not** a tuple ma è una specie di array!!!!!!! (y che numpy shape torna tupla)\n",
        "\n",
        "We can also create a random `Tensor` analogously to NumPy.\n",
        "\n",
        "A `2 × 3 × 3` `Tensor` is the same as saying \"2 times 3 × 3 matrices\", or a \"cubic matrix\""
      ]
    },
    {
      "cell_type": "code",
      "execution_count": 19,
      "metadata": {
        "colab": {
          "base_uri": "https://localhost:8080/"
        },
        "id": "5AWBKmkG2Zuu",
        "outputId": "3d9e2ee5-c4ce-4763-8ecf-afd6fa8f29ee"
      },
      "outputs": [
        {
          "data": {
            "text/plain": [
              "tensor([[[0.0607, 0.1229, 0.1798],\n",
              "         [0.7010, 0.7874, 0.4744],\n",
              "         [0.6684, 0.9488, 0.2674]],\n",
              "\n",
              "        [[0.2313, 0.5075, 0.5208],\n",
              "         [0.1519, 0.5207, 0.1797],\n",
              "         [0.1239, 0.4920, 0.0416]]])"
            ]
          },
          "execution_count": 19,
          "metadata": {},
          "output_type": "execute_result"
        }
      ],
      "source": [
        "x = torch.rand([2,3,3]) # 2 matrici 3x3 o una matrice \"cubica\"\n",
        "x"
      ]
    },
    {
      "cell_type": "markdown",
      "metadata": {
        "id": "o9M-OE_siV4z"
      },
      "source": [
        "cmq puoi passare agilmente da array numpy a tensori con ToTensor() o Tonumpy()"
      ]
    },
    {
      "cell_type": "markdown",
      "metadata": {
        "id": "P8hOjbu2qMR2"
      },
      "source": [
        "## Training a simple *Convolutional Neural Network* on the *MNIST* dataset\n",
        "\n",
        "Alleniamo un Convolutional NN molto semplice fatto da 1 solo layer\n",
        "MNIST è un dataset di 60k cifre scritte a mano da 0 a 9 (1960) \n",
        "\n",
        "In PyTorch, il parametro BATCH_SIZE si riferisce al numero di esempi di addestramento che vengono passati alla rete neurale in un'unica iterazione.\n",
        "\n",
        "Un BATCH_SIZE di 32 significa che la rete neurale viene addestrata su 32 esempi di addestramento in una sola iterazione.\n",
        "\n",
        "Usare un valore di BATCH_SIZE più grande può accelerare l'addestramento, in quanto vengono eseguite meno iterazioni complessive, ma richiede anche più memoria per l'archiviazione dei dati di addestramento e potrebbe portare a un addestramento meno stabile.\n",
        "\n",
        "D'altra parte, un valore di BATCH_SIZE più piccolo richiede più iterazioni per completare un'epoca di addestramento, ma può portare a una migliore generalizzazione della rete neurale.\n",
        "\n",
        "La scelta del valore di BATCH_SIZE dipende dalle specifiche del problema, dalle risorse hardware disponibili e dalle esigenze di addestramento.\n"
      ]
    },
    {
      "cell_type": "code",
      "execution_count": 20,
      "metadata": {
        "id": "aMhl_pbhqfzz"
      },
      "outputs": [],
      "source": [
        "# A good idea is to start with ~32 (Masters and Luschi, 2018 | https://arxiv.org/abs/1804.07612)\n",
        "# \n",
        "BATCH_SIZE = 32"
      ]
    },
    {
      "attachments": {},
      "cell_type": "markdown",
      "metadata": {
        "id": "-JUbUcuFqiEo"
      },
      "source": [
        "### Getting and loading the data\n",
        "There are potentially other -- more *handcrafted* -- ways to load the data. However, it is always a good practice to rely on `torch.utils.data.Dataset` and `torch.utils.data.DataLoader` classes, as they provide many useful functionalities, such as automated *batching*, *shuffling*, loading *parallelization* and *data augmentation* (`transforms`).\n",
        "\n",
        "- importo il dataset da torchvision.datasets.MNIST dicendogli di trasformarmeli in tensori\n",
        "- creo un Trainloader con torch.utils.data.Dataloader, dove imposto anche il batch size e il shuffle\n",
        "\n",
        "Il Dataloader ottimizza i dati per metterli in modo tale da rendere i calcoli efficienti"
      ]
    },
    {
      "cell_type": "code",
      "execution_count": 21,
      "metadata": {
        "colab": {
          "base_uri": "https://localhost:8080/",
          "height": 423,
          "referenced_widgets": [
            "58e0c6101e7549b892cb5a8a6e49925a",
            "359037edf7ff46c995920431f7576865",
            "c7a54591f6d144c385b34ad3ad60f3cc",
            "cfbabc4ac7cc484cb243a4390d268e98",
            "2bd3a7594e3e4ed6a1aaf7f294a97460",
            "8b18c32949a24bc7b03efb138682a029",
            "6777cd66f3424be19e6cc6094e69f5a5",
            "469696e3ba644bd68bf72d898326bfa5",
            "6fcc56f15384456b93ba7c0ac9e611a5",
            "fda44eef0e804328ab6c783d11f22b6c",
            "5eaba87570d342198862f565d4cd4777",
            "7be68865ca254755829552eed11c70a0",
            "c1a599e4c0fd47d0a68387ccf50a9934",
            "cdbe30eeedb34b499713afffe48775be",
            "6ee29cc2264e4765899e36478eead4a3",
            "ab88ea04c9d4490498385ed61c9cc9d9",
            "94366797cc4c43ba904d8961ebaecfc3",
            "585fb26d5ede4d6d8bf5fec0b2e645e6",
            "02072e8a53f54484912743a8de303646",
            "232d330125974a5cb1e6ba0caaf5fe7c",
            "2570777bba464d1cbe74a9ccca704b2c",
            "c4f95ceb6ec94c3985a2f3294e105c55",
            "7091753ec5104f819a34ab206c6a66cc",
            "b3da87e254e342e3898d3e30d9d0cf41",
            "f231492f2a32496095b18b629132faca",
            "82b4cb6353334c1baff1437f25cfa61a",
            "f455c5aa4da6458995f9a9e4b3ec0026",
            "6b82835495aa4e9097f5a899ddbb6852",
            "2489d125501349319c5f2f826a9e892c",
            "706488ba8f0f4cb1943bdb4938ce9a19",
            "291f8ab1da0e4e47bb59a12f0d39f51b",
            "efaf15a21993404e9c8fbd7f0a6b729a",
            "307a6cdb65f24c4fa360dc777d952fa0",
            "0a1d95d712dd427ea67c6b5aa1d59c55",
            "da55ae58104c472f8dc21e77e7858b29",
            "23d9b771235a4bc7a7e763ba71a3807a",
            "c4172fb97e484b68a5cabf8922084a78",
            "15cc9cfa22da4ac9931b713ae5c9a7e7",
            "97a9ee662c444ad28639fe7a537e9f72",
            "f0e26282e81b4a0fbf3ac4ed8ce69dcd",
            "3754631d5ed14fc8bea240fe8d588a5a",
            "d6bdff5960d843e995f9706b854f352c",
            "d3af28bf26ae4ec6a506cd16b11f2663",
            "e0dae762ba7c495dbb66b5d5dc0a18b3"
          ]
        },
        "id": "VUFxieZhxNew",
        "outputId": "aea3595a-d982-433c-968b-ecc702c65d07"
      },
      "outputs": [
        {
          "name": "stdout",
          "output_type": "stream",
          "text": [
            "Downloading http://yann.lecun.com/exdb/mnist/train-images-idx3-ubyte.gz\n",
            "Downloading http://yann.lecun.com/exdb/mnist/train-images-idx3-ubyte.gz to ./data\\MNIST\\raw\\train-images-idx3-ubyte.gz\n"
          ]
        },
        {
          "name": "stderr",
          "output_type": "stream",
          "text": [
            "100%|██████████| 9912422/9912422 [00:01<00:00, 8906044.02it/s] \n"
          ]
        },
        {
          "name": "stdout",
          "output_type": "stream",
          "text": [
            "Extracting ./data\\MNIST\\raw\\train-images-idx3-ubyte.gz to ./data\\MNIST\\raw\n",
            "\n",
            "Downloading http://yann.lecun.com/exdb/mnist/train-labels-idx1-ubyte.gz\n",
            "Downloading http://yann.lecun.com/exdb/mnist/train-labels-idx1-ubyte.gz to ./data\\MNIST\\raw\\train-labels-idx1-ubyte.gz\n"
          ]
        },
        {
          "name": "stderr",
          "output_type": "stream",
          "text": [
            "100%|██████████| 28881/28881 [00:00<00:00, 11088950.37it/s]\n"
          ]
        },
        {
          "name": "stdout",
          "output_type": "stream",
          "text": [
            "Extracting ./data\\MNIST\\raw\\train-labels-idx1-ubyte.gz to ./data\\MNIST\\raw\n",
            "\n",
            "Downloading http://yann.lecun.com/exdb/mnist/t10k-images-idx3-ubyte.gz\n",
            "Downloading http://yann.lecun.com/exdb/mnist/t10k-images-idx3-ubyte.gz to ./data\\MNIST\\raw\\t10k-images-idx3-ubyte.gz\n"
          ]
        },
        {
          "name": "stderr",
          "output_type": "stream",
          "text": [
            "100%|██████████| 1648877/1648877 [00:00<00:00, 6250845.22it/s]\n"
          ]
        },
        {
          "name": "stdout",
          "output_type": "stream",
          "text": [
            "Extracting ./data\\MNIST\\raw\\t10k-images-idx3-ubyte.gz to ./data\\MNIST\\raw\n",
            "\n",
            "Downloading http://yann.lecun.com/exdb/mnist/t10k-labels-idx1-ubyte.gz\n",
            "Downloading http://yann.lecun.com/exdb/mnist/t10k-labels-idx1-ubyte.gz to ./data\\MNIST\\raw\\t10k-labels-idx1-ubyte.gz\n"
          ]
        },
        {
          "name": "stderr",
          "output_type": "stream",
          "text": [
            "100%|██████████| 4542/4542 [00:00<?, ?it/s]"
          ]
        },
        {
          "name": "stdout",
          "output_type": "stream",
          "text": [
            "Extracting ./data\\MNIST\\raw\\t10k-labels-idx1-ubyte.gz to ./data\\MNIST\\raw\n",
            "\n"
          ]
        },
        {
          "name": "stderr",
          "output_type": "stream",
          "text": [
            "\n"
          ]
        }
      ],
      "source": [
        "# Convert data to PyTorch tensor form \n",
        "data_transforms = transforms.ToTensor()\n",
        "\n",
        "## download and load training dataset\n",
        "trainset = torchvision.datasets.MNIST(root='./data', train=True, download=True, transform=data_transforms)\n",
        "trainloader = torch.utils.data.DataLoader(trainset, batch_size=BATCH_SIZE, shuffle=True) # questi sono i dati da dare alla NN\n",
        "\n",
        "## download and load testing dataset\n",
        "testset = torchvision.datasets.MNIST(root='./data', train=False, download=True, transform=data_transforms)\n",
        "testloader = torch.utils.data.DataLoader(testset, batch_size=BATCH_SIZE, shuffle=False)"
      ]
    },
    {
      "cell_type": "markdown",
      "metadata": {
        "id": "234y1hlFrMBT"
      },
      "source": [
        "### Visualising the data\n",
        "Let's have a look at some of the images in the data set."
      ]
    },
    {
      "cell_type": "code",
      "execution_count": 22,
      "metadata": {
        "colab": {
          "base_uri": "https://localhost:8080/",
          "height": 380
        },
        "id": "bE9bUGYBz2UM",
        "outputId": "c9a7703b-3c3c-4172-cd6b-51a97f108834"
      },
      "outputs": [
        {
          "data": {
            "image/png": "[encoded data removed]",
            "text/plain": [
              "<Figure size 540x288 with 10 Axes>"
            ]
          },
          "metadata": {
            "needs_background": "light"
          },
          "output_type": "display_data"
        }
      ],
      "source": [
        "# piccolo modo per visualizzare i dati\n",
        "\n",
        "num_row = 2\n",
        "num_col = 5\n",
        "\n",
        "fig, axes = plt.subplots(num_row, num_col, figsize=(1.5*num_col, 2*num_row))\n",
        "for i in range(num_row*num_col):\n",
        "    ax = axes[i//num_col, i%num_col]\n",
        "    ax.imshow(trainset.data[i], cmap='gray')\n",
        "    ax.set_title('Label: {}'.format(trainset.targets[i])) # per vedere i label scritti sopra (Targets)\n",
        "plt.tight_layout()\n",
        "plt.show()"
      ]
    },
    {
      "attachments": {},
      "cell_type": "markdown",
      "metadata": {
        "id": "PtAtiTGHi9zg"
      },
      "source": [
        "guardando le immagini si vede che non c'è particolare simmetria nel problema, anzi, la differenza tra 6 e 9 sta tutta nell'orientazione. Quindi non ci sono i presupposti per fare DATA AUGMENTATION"
      ]
    },
    {
      "cell_type": "code",
      "execution_count": 23,
      "metadata": {
        "colab": {
          "base_uri": "https://localhost:8080/"
        },
        "id": "s1PoDhz5xUsU",
        "outputId": "adc60960-200a-4212-fab9-afa912ab1095"
      },
      "outputs": [
        {
          "name": "stdout",
          "output_type": "stream",
          "text": [
            "Single image dimensions: torch.Size([28, 28])\n",
            "Image batch dimensions: torch.Size([32, 1, 28, 28])\n",
            "Image label dimensions: torch.Size([32])\n"
          ]
        }
      ],
      "source": [
        "# printing data shapes per vedere la dimensione delle immagini\n",
        "print(\"Single image dimensions:\", trainset.data[0].shape)\n",
        "for images, labels in trainloader:\n",
        "    print(\"Image batch dimensions:\", images.shape)\n",
        "    print(\"Image label dimensions:\", labels.shape) # saranno 32 label visto che fa batch da 32, quindi un vettore di 32 elementi\n",
        "    break"
      ]
    },
    {
      "attachments": {},
      "cell_type": "markdown",
      "metadata": {},
      "source": [
        "Quindi ogni singola immagine è un 28x28 pixel. Visto che il Batch è 32 avrò che ogni BATCH di immagini avrà dimensioni 32x1x28x28 dove:\n",
        "- 32 immagini dentro al BATCH\n",
        "- 1 canale/colore\n",
        "- 28x28 dimensione dell'immagine"
      ]
    },
    {
      "attachments": {},
      "cell_type": "markdown",
      "metadata": {
        "id": "an5243marbd0"
      },
      "source": [
        "### Defining the model\n",
        "\n",
        "In `PyTorch`, we define a model by subclassing the `nn.Module` class and defining the `forward` method. The `forward` method is where we define the *computation* that happens at every *forward pass* of the model.\n",
        "\n",
        "Except for extreme corner-cases, the backward pass is automatically defined by `PyTorch` *autograd* system and gradients are obtained efficiently whenever needed.\n",
        "\n",
        "`PyTorch` modules are *transparent* with respect to batch sizes, i.e. we can use the same model to process a single sample or a batch of samples, without worrying about the exact batch size.\n",
        "\n",
        "Per definire un modello in pytorch si crea una sottoclasse di nn.Module che è la classe di base su cui costruire l'architettura della NN.\n",
        "In OGNI ARCHITETTURA bisogna definire:\n",
        "\n",
        "\n",
        "*   Layers che si vuole\n",
        "*   La funzione FORWARD: che è quella che fa la computazione in avanti del modello.\n",
        "\n",
        "MENTRE il BACKWARD PASS viene fatto automaticamente da Pytorch e non serve definirlo!!!!\n",
        "Quando definisci l'architettura non serve che definisci il BATCH-SIZE, non gli serve saperlo!!\n",
        "\n"
      ]
    },
    {
      "attachments": {},
      "cell_type": "markdown",
      "metadata": {},
      "source": [
        "Ti conviene definire tutti i layers che userai nell'inizializzatore, e nella funzione forward definisci la struttura della rete."
      ]
    },
    {
      "cell_type": "code",
      "execution_count": 24,
      "metadata": {
        "id": "KJgB2zXqxXno"
      },
      "outputs": [],
      "source": [
        "# definisco il mio modello\n",
        "class MyModel(nn.Module):\n",
        "  \n",
        "  # creo l'inizializzatorre (costruttore)\n",
        "    def __init__(self):\n",
        "\n",
        "        # ereditiamo tutte le proprietà del modulo superiore\n",
        "        super(MyModel, self).__init__()\n",
        "        \"\"\"\n",
        "        DEFINISCO un LAYER CONVOLUZIONALE 2D che prende come input:\n",
        "        \n",
        "        in_channel: 1 perchè ho solo un colore delle immagini (scala di grigi)\n",
        "        out_channel: 32 \"perchè mi piace 32\"  Queste sono le dimensionalità del LAYER\n",
        "        scelgo una dimensione del kernel-size: 3 (o 5 di solito si sceglie dispari)   \n",
        "        \"\"\"\n",
        "        self.conv1 = nn.Conv2d(in_channels=1, out_channels=32, kernel_size=3)\n",
        "        \n",
        "        # LAYER LINEARE (out_chanel di sopra*26*26, 128 è la dimensionalità del layer sucessivo\n",
        "        self.l1 = nn.Linear(32 * 26 * 26, 128)\n",
        "        \n",
        "        # altro LAYER LINEARE: input è l'output di quello prima, e 10 è OUTPUT (numeri da 0 a 9)\n",
        "        self.l2 = nn.Linear(128, 10) # layer che mi da l'output\n",
        "\n",
        "\n",
        "    def forward(self, x):\n",
        "      \n",
        "        # 1)chiamo prima la convoluzione che manda il BATCH-SIZEx1x28x28 in 32x26x26 (che fa la convoluzione)\n",
        "        # Convolution: BSx1x28x28 => BSx32x26x26\n",
        "        x = self.conv1(x)\n",
        "\n",
        "        # 2) chiamo la RELU sull'output della convoluzione\n",
        "        # Activation function\n",
        "        x = F.relu(x) # serve a dare non linearità\n",
        "\n",
        "        # 3) trasformo in un vettore da 32x26x26 = 21632\n",
        "        # flatten => BS x (32*26*26) = BS x 21632\n",
        "        x = x.flatten(start_dim = 1) # cosi mi da un vettore di 21632 elementi\n",
        "\n",
        "        # 4) chiamo il PRIMO LINEAR\n",
        "        # BSx(32*26*26) => BSx128\n",
        "        x = self.l1(x)\n",
        "\n",
        "        # 5) applico di nuovo la RELU\n",
        "        x = F.relu(x)\n",
        "\n",
        "        # 6) applico il SECONDO LINEARE che mi da l'output\n",
        "        # BSx128 => BSx10\n",
        "        logits = self.l2(x) # e ottengo i logit\n",
        "\n",
        "        # 7) faccio il SOFTMAX finale per trasformare i logit in probabilità\n",
        "        # Softmax computation\n",
        "        out = F.softmax(logits, dim=1)\n",
        "        \n",
        "        return out"
      ]
    },
    {
      "cell_type": "markdown",
      "metadata": {
        "id": "fHMU5yEWt52V"
      },
      "source": [
        "### Model instantiation and test with a single batch\n",
        "We haven't trained the model yet, so it's not going to give us good results. However, we can still test it on a single batch of data to see if it works from the implementation viewpoint."
      ]
    },
    {
      "attachments": {},
      "cell_type": "markdown",
      "metadata": {
        "id": "PJuWdkXnrCcW"
      },
      "source": [
        "E' sempre una buona idea testare il modello su un batch per vederese funziona!\n",
        "In questo caso facciamo girare il modello su un solo batch (32) per vedere se funziona: ci aspettiamo un output di 32x10 cioè 32 righe per 10 colonne"
      ]
    },
    {
      "cell_type": "code",
      "execution_count": 38,
      "metadata": {
        "colab": {
          "base_uri": "https://localhost:8080/"
        },
        "id": "JLJOWovVxcFk",
        "outputId": "5fd4fcd6-b4d8-4e32-dbba-760b65e06ecf"
      },
      "outputs": [
        {
          "name": "stdout",
          "output_type": "stream",
          "text": [
            "Output shape is: torch.Size([32, 10])  i.e.: batch_size x num_classes\n"
          ]
        }
      ],
      "source": [
        "model = MyModel() # instanzio il modello\n",
        "\n",
        "# images sono le x del trainLoader\n",
        "out = model(images) # per fare la predizione passo il modello con l'input\n",
        "print(f\"Output shape is: {out.shape}  i.e.: batch_size x num_classes\")"
      ]
    },
    {
      "cell_type": "markdown",
      "metadata": {
        "id": "OSl86An6rkpv"
      },
      "source": [
        "possiamo vedere anche l'accuratezza per un solo batch: bassissimo. (ha visto solo 32 immagini e nn c'ha capito molto)\n",
        "Ma è giusto per vedeere che fuznioni!"
      ]
    },
    {
      "cell_type": "code",
      "execution_count": 39,
      "metadata": {
        "colab": {
          "base_uri": "https://localhost:8080/"
        },
        "id": "wYHTbxrauYMo",
        "outputId": "bbb2ca80-c7fe-4a8a-c3fb-db1fead66290"
      },
      "outputs": [
        {
          "name": "stdout",
          "output_type": "stream",
          "text": [
            "Accuracy on the single batch just used: 9.375%\n"
          ]
        }
      ],
      "source": [
        "def get_batch_accuracy(logit, target):\n",
        "    \"\"\"Obtain accuracy for one batch of data\"\"\"\n",
        "    corrects = (torch.max(logit, 1)[1].view(target.size()).data == target.data).sum()\n",
        "    accuracy = 100.0 * corrects / target.size(0)\n",
        "    return accuracy.item()\n",
        "\n",
        "print(f\"Accuracy on the single batch just used: {get_batch_accuracy(out, labels)}%\")"
      ]
    },
    {
      "cell_type": "markdown",
      "metadata": {
        "id": "8NDn8IqLr94S"
      },
      "source": [
        "MA noi possiamo utilizzarte la GPU che ci fa tanti bei calcoletti carini!!\n",
        "\n",
        "Per utilizzare la CPU torch ha la funzione .device che inoltre mi controlla se ho cuda nel pc altrimenti usa la cPU"
      ]
    },
    {
      "cell_type": "markdown",
      "metadata": {
        "id": "KdLkoSb2scX6"
      },
      "source": [
        "Quando instanzio il mio modello, devo MANDARLI alla GPU mandando `model = model.to(device)`! è importante!! altrimenti ti dice errore.\n",
        "\n",
        "Per ora usiamo la CPU (non trova cuda quindi usa la cpu)"
      ]
    },
    {
      "cell_type": "code",
      "execution_count": 40,
      "metadata": {
        "colab": {
          "base_uri": "https://localhost:8080/"
        },
        "id": "C_U2AXLeuIw0",
        "outputId": "0961b570-60a5-4453-d6ce-0ad4c0c80a23"
      },
      "outputs": [
        {
          "name": "stdout",
          "output_type": "stream",
          "text": [
            "Using device: cuda\n"
          ]
        }
      ],
      "source": [
        "# Device selection\n",
        "device = torch.device(\"cuda\" if torch.cuda.is_available() else \"cpu\")\n",
        "\n",
        "\n",
        "# Re-instantiate the model to reset the weights/gradients. \n",
        "# Weights are initialized by default according to Kaiming He et al. (2015) | https://arxiv.org/abs/1502.01852\n",
        "model = MyModel()  \n",
        "model = model.to(device)  # Move the model to the selected device\n",
        "\n",
        "print(f\"Using device: {device}\")"
      ]
    },
    {
      "attachments": {},
      "cell_type": "markdown",
      "metadata": {
        "id": "z_Ti8ZCgtInv"
      },
      "source": [
        "PER ALLENARE FINALMENTE LA RETE definisco:\n",
        "- il NUM DI EPOCHE \n",
        "- LEARNING RATE \n",
        "- la LOSS  \n",
        "- L'OPTIMIZER"
      ]
    },
    {
      "cell_type": "code",
      "execution_count": 41,
      "metadata": {
        "id": "ZYUWGP5Gxgw9"
      },
      "outputs": [],
      "source": [
        "# Number of times the whole (training) dataset is used for training\n",
        "num_epochs = 5  # per far vedere cosa succede\n",
        "learning_rate = 0.001\n",
        "\n",
        "criterion = nn.CrossEntropyLoss() # loss function che BEL!! visto che ho multiclassification (non binary)\n",
        "\n",
        "# uso modulo .optim per scegliere ADAM o altri ottimizzatori. Passo in input i parametri da ottimizzare con model.parameters() e Learnig rate\n",
        "optimizer = torch.optim.Adam(model.parameters(), lr=learning_rate)"
      ]
    },
    {
      "cell_type": "markdown",
      "metadata": {
        "id": "SW1h2rpKvAbm"
      },
      "source": [
        "### Training loop\n",
        "\n",
        "Using `CPU`, this training loop is very slow. We can run it on [GPU](https://cloud.google.com/gpu) and make it very quick even on Colab by going to `Runtime` > `Change runtime type` and selecting `GPU` from the `Hardware accelerator` drop-down."
      ]
    },
    {
      "cell_type": "markdown",
      "metadata": {
        "id": "2e05IeXftuEp"
      },
      "source": [
        "DEVO DEFINRE MANUALMENTE il TRAINING LOOP (parte noiosa di pytorch ma che poi viene ricompensata perchè è molto piu controllabile) "
      ]
    },
    {
      "cell_type": "code",
      "execution_count": 42,
      "metadata": {
        "colab": {
          "base_uri": "https://localhost:8080/"
        },
        "id": "e_EMhOqczfLZ",
        "outputId": "75e5aad4-b5e9-4f61-acb7-381ce2019a2e"
      },
      "outputs": [
        {
          "name": "stdout",
          "output_type": "stream",
          "text": [
            "Epoch: 1 | Loss: 1.6601 | Train Accuracy: 80.3829 | Time: 22.26\n",
            "Epoch: 2 | Loss: 1.4954 | Train Accuracy: 96.9300 | Time: 16.99\n",
            "Epoch: 3 | Loss: 1.4825 | Train Accuracy: 98.1273 | Time: 17.96\n",
            "Epoch: 4 | Loss: 1.4765 | Train Accuracy: 98.6826 | Time: 18.19\n",
            "Epoch: 5 | Loss: 1.4736 | Train Accuracy: 98.9361 | Time: 18.13\n"
          ]
        }
      ],
      "source": [
        "for epoch in range(num_epochs):\n",
        "    \n",
        "    # inizializzo a zero la loss e la accuracy\n",
        "    train_running_loss = 0.0\n",
        "    train_acc = 0.0\n",
        "\n",
        "    # 1) devo mettere il modello in trainig mode con .train() altrimenti non crea modello\n",
        "    # Set the model to training mode: relevant for dropout, batchnorm, etc.\n",
        "    model = model.train()\n",
        "    # mettiamo il tempo per sfizio\n",
        "    start = time()\n",
        "\n",
        "    ## 2) training step : facciamo loopare sul TrainLOADER\n",
        "    for i, (images, labels) in enumerate(trainloader):\n",
        "        \n",
        "        # mandiamo x e y a CUDA\n",
        "        images = images.to(device)\n",
        "        labels = labels.to(device)\n",
        "\n",
        "        ## forward + backprop + loss\n",
        "        logits = model(images) # queste sono le mie predizioni del mio modello\n",
        "        loss = criterion(logits, labels) # calcolo la loss con criterio che ho scelto conforntanto la predizione con le label vere\n",
        "\n",
        "        # Reset the gradients to zero: otherwise they accumulate! DEVO FARLO\n",
        "        optimizer.zero_grad()\n",
        "\n",
        "        # Backpropagation sulla loss EASY\n",
        "        loss.backward()\n",
        "\n",
        "        ## update model params FACCIO update dei parametri del modello\n",
        "        optimizer.step()\n",
        "\n",
        "        # aggiungiamo la loss alla somma di loss che ho avuto finora (per vedere se diminuisce)\n",
        "        train_running_loss += loss.item()\n",
        "        # e prendiamo la accuracy da aggiungere alla somma di accuracy che ho avuto finora\n",
        "        train_acc += get_batch_accuracy(logits, labels)\n",
        "    \n",
        "\n",
        "    # per testare il loop devo usare eval.() e per uscire dallo stato di training\n",
        "    model.eval()\n",
        "    print(f\"Epoch: {epoch+1} | Loss: {train_running_loss / i:.4f} | Train Accuracy: {train_acc/i:.4f} | Time: {time()-start:.2f}\")        "
      ]
    },
    {
      "cell_type": "markdown",
      "metadata": {
        "id": "ORUJn3Vo4IGo"
      },
      "source": [
        "Without GPU: ~160s/epoch   \n",
        "With GPU: ~13s/epoch   \n"
      ]
    },
    {
      "cell_type": "markdown",
      "metadata": {
        "id": "D2iKcN-zwyCY"
      },
      "source": [
        "con solo 5 epoche gia va al 90% di accuratezza"
      ]
    },
    {
      "cell_type": "markdown",
      "metadata": {
        "id": "BveamZkNvleZ"
      },
      "source": [
        "### Test loop"
      ]
    },
    {
      "cell_type": "markdown",
      "metadata": {
        "id": "QETIL7tjxAXC"
      },
      "source": [
        "PER TESTARE IL MODELLO:"
      ]
    },
    {
      "cell_type": "code",
      "execution_count": 43,
      "metadata": {
        "colab": {
          "base_uri": "https://localhost:8080/"
        },
        "id": "AwJAZsd6zier",
        "outputId": "062f576a-609e-4fd2-cf08-2a5ab7fb0074"
      },
      "outputs": [
        {
          "name": "stdout",
          "output_type": "stream",
          "text": [
            "Test Accuracy: 98.6579\n"
          ]
        }
      ],
      "source": [
        "# setto a zero la test_acc\n",
        "test_acc = 0.0\n",
        "\n",
        "# qui faccio il loop sul testloader!\n",
        "for i, (images, labels) in enumerate(testloader, 0):\n",
        "    images = images.to(device) # x al device\n",
        "    labels = labels.to(device) # y al device\n",
        "    outputs = model(images) # predizioni\n",
        "    test_acc += get_batch_accuracy(outputs, labels) # accuratezza\n",
        "        \n",
        "print(f\"Test Accuracy: {test_acc/i:.4f}\")"
      ]
    }
  ],
  "metadata": {
    "accelerator": "GPU",
    "colab": {
      "provenance": []
    },
    "gpuClass": "standard",
    "kernelspec": {
      "display_name": "Python 3",
      "language": "python",
      "name": "python3"
    },
    "language_info": {
      "codemirror_mode": {
        "name": "ipython",
        "version": 3
      },
      "file_extension": ".py",
      "mimetype": "text/x-python",
      "name": "python",
      "nbconvert_exporter": "python",
      "pygments_lexer": "ipython3",
      "version": "3.9.12"
    },
    "widgets": {
      "application/vnd.jupyter.widget-state+json": {
        "02072e8a53f54484912743a8de303646": {
          "model_module": "@jupyter-widgets/base",
          "model_module_version": "1.2.0",
          "model_name": "LayoutModel",
          "state": {
            "_model_module": "@jupyter-widgets/base",
            "_model_module_version": "1.2.0",
            "_model_name": "LayoutModel",
            "_view_count": null,
            "_view_module": "@jupyter-widgets/base",
            "_view_module_version": "1.2.0",
            "_view_name": "LayoutView",
            "align_content": null,
            "align_items": null,
            "align_self": null,
            "border": null,
            "bottom": null,
            "display": null,
            "flex": null,
            "flex_flow": null,
            "grid_area": null,
            "grid_auto_columns": null,
            "grid_auto_flow": null,
            "grid_auto_rows": null,
            "grid_column": null,
            "grid_gap": null,
            "grid_row": null,
            "grid_template_areas": null,
            "grid_template_columns": null,
            "grid_template_rows": null,
            "height": null,
            "justify_content": null,
            "justify_items": null,
            "left": null,
            "margin": null,
            "max_height": null,
            "max_width": null,
            "min_height": null,
            "min_width": null,
            "object_fit": null,
            "object_position": null,
            "order": null,
            "overflow": null,
            "overflow_x": null,
            "overflow_y": null,
            "padding": null,
            "right": null,
            "top": null,
            "visibility": null,
            "width": null
          }
        },
        "0a1d95d712dd427ea67c6b5aa1d59c55": {
          "model_module": "@jupyter-widgets/controls",
          "model_module_version": "1.5.0",
          "model_name": "HBoxModel",
          "state": {
            "_dom_classes": [],
            "_model_module": "@jupyter-widgets/controls",
            "_model_module_version": "1.5.0",
            "_model_name": "HBoxModel",
            "_view_count": null,
            "_view_module": "@jupyter-widgets/controls",
            "_view_module_version": "1.5.0",
            "_view_name": "HBoxView",
            "box_style": "",
            "children": [
              "IPY_MODEL_da55ae58104c472f8dc21e77e7858b29",
              "IPY_MODEL_23d9b771235a4bc7a7e763ba71a3807a",
              "IPY_MODEL_c4172fb97e484b68a5cabf8922084a78"
            ],
            "layout": "IPY_MODEL_15cc9cfa22da4ac9931b713ae5c9a7e7"
          }
        },
        "15cc9cfa22da4ac9931b713ae5c9a7e7": {
          "model_module": "@jupyter-widgets/base",
          "model_module_version": "1.2.0",
          "model_name": "LayoutModel",
          "state": {
            "_model_module": "@jupyter-widgets/base",
            "_model_module_version": "1.2.0",
            "_model_name": "LayoutModel",
            "_view_count": null,
            "_view_module": "@jupyter-widgets/base",
            "_view_module_version": "1.2.0",
            "_view_name": "LayoutView",
            "align_content": null,
            "align_items": null,
            "align_self": null,
            "border": null,
            "bottom": null,
            "display": null,
            "flex": null,
            "flex_flow": null,
            "grid_area": null,
            "grid_auto_columns": null,
            "grid_auto_flow": null,
            "grid_auto_rows": null,
            "grid_column": null,
            "grid_gap": null,
            "grid_row": null,
            "grid_template_areas": null,
            "grid_template_columns": null,
            "grid_template_rows": null,
            "height": null,
            "justify_content": null,
            "justify_items": null,
            "left": null,
            "margin": null,
            "max_height": null,
            "max_width": null,
            "min_height": null,
            "min_width": null,
            "object_fit": null,
            "object_position": null,
            "order": null,
            "overflow": null,
            "overflow_x": null,
            "overflow_y": null,
            "padding": null,
            "right": null,
            "top": null,
            "visibility": null,
            "width": null
          }
        },
        "232d330125974a5cb1e6ba0caaf5fe7c": {
          "model_module": "@jupyter-widgets/controls",
          "model_module_version": "1.5.0",
          "model_name": "ProgressStyleModel",
          "state": {
            "_model_module": "@jupyter-widgets/controls",
            "_model_module_version": "1.5.0",
            "_model_name": "ProgressStyleModel",
            "_view_count": null,
            "_view_module": "@jupyter-widgets/base",
            "_view_module_version": "1.2.0",
            "_view_name": "StyleView",
            "bar_color": null,
            "description_width": ""
          }
        },
        "23d9b771235a4bc7a7e763ba71a3807a": {
          "model_module": "@jupyter-widgets/controls",
          "model_module_version": "1.5.0",
          "model_name": "FloatProgressModel",
          "state": {
            "_dom_classes": [],
            "_model_module": "@jupyter-widgets/controls",
            "_model_module_version": "1.5.0",
            "_model_name": "FloatProgressModel",
            "_view_count": null,
            "_view_module": "@jupyter-widgets/controls",
            "_view_module_version": "1.5.0",
            "_view_name": "ProgressView",
            "bar_style": "success",
            "description": "",
            "description_tooltip": null,
            "layout": "IPY_MODEL_3754631d5ed14fc8bea240fe8d588a5a",
            "max": 4542,
            "min": 0,
            "orientation": "horizontal",
            "style": "IPY_MODEL_d6bdff5960d843e995f9706b854f352c",
            "value": 4542
          }
        },
        "2489d125501349319c5f2f826a9e892c": {
          "model_module": "@jupyter-widgets/controls",
          "model_module_version": "1.5.0",
          "model_name": "DescriptionStyleModel",
          "state": {
            "_model_module": "@jupyter-widgets/controls",
            "_model_module_version": "1.5.0",
            "_model_name": "DescriptionStyleModel",
            "_view_count": null,
            "_view_module": "@jupyter-widgets/base",
            "_view_module_version": "1.2.0",
            "_view_name": "StyleView",
            "description_width": ""
          }
        },
        "2570777bba464d1cbe74a9ccca704b2c": {
          "model_module": "@jupyter-widgets/base",
          "model_module_version": "1.2.0",
          "model_name": "LayoutModel",
          "state": {
            "_model_module": "@jupyter-widgets/base",
            "_model_module_version": "1.2.0",
            "_model_name": "LayoutModel",
            "_view_count": null,
            "_view_module": "@jupyter-widgets/base",
            "_view_module_version": "1.2.0",
            "_view_name": "LayoutView",
            "align_content": null,
            "align_items": null,
            "align_self": null,
            "border": null,
            "bottom": null,
            "display": null,
            "flex": null,
            "flex_flow": null,
            "grid_area": null,
            "grid_auto_columns": null,
            "grid_auto_flow": null,
            "grid_auto_rows": null,
            "grid_column": null,
            "grid_gap": null,
            "grid_row": null,
            "grid_template_areas": null,
            "grid_template_columns": null,
            "grid_template_rows": null,
            "height": null,
            "justify_content": null,
            "justify_items": null,
            "left": null,
            "margin": null,
            "max_height": null,
            "max_width": null,
            "min_height": null,
            "min_width": null,
            "object_fit": null,
            "object_position": null,
            "order": null,
            "overflow": null,
            "overflow_x": null,
            "overflow_y": null,
            "padding": null,
            "right": null,
            "top": null,
            "visibility": null,
            "width": null
          }
        },
        "291f8ab1da0e4e47bb59a12f0d39f51b": {
          "model_module": "@jupyter-widgets/controls",
          "model_module_version": "1.5.0",
          "model_name": "ProgressStyleModel",
          "state": {
            "_model_module": "@jupyter-widgets/controls",
            "_model_module_version": "1.5.0",
            "_model_name": "ProgressStyleModel",
            "_view_count": null,
            "_view_module": "@jupyter-widgets/base",
            "_view_module_version": "1.2.0",
            "_view_name": "StyleView",
            "bar_color": null,
            "description_width": ""
          }
        },
        "2bd3a7594e3e4ed6a1aaf7f294a97460": {
          "model_module": "@jupyter-widgets/base",
          "model_module_version": "1.2.0",
          "model_name": "LayoutModel",
          "state": {
            "_model_module": "@jupyter-widgets/base",
            "_model_module_version": "1.2.0",
            "_model_name": "LayoutModel",
            "_view_count": null,
            "_view_module": "@jupyter-widgets/base",
            "_view_module_version": "1.2.0",
            "_view_name": "LayoutView",
            "align_content": null,
            "align_items": null,
            "align_self": null,
            "border": null,
            "bottom": null,
            "display": null,
            "flex": null,
            "flex_flow": null,
            "grid_area": null,
            "grid_auto_columns": null,
            "grid_auto_flow": null,
            "grid_auto_rows": null,
            "grid_column": null,
            "grid_gap": null,
            "grid_row": null,
            "grid_template_areas": null,
            "grid_template_columns": null,
            "grid_template_rows": null,
            "height": null,
            "justify_content": null,
            "justify_items": null,
            "left": null,
            "margin": null,
            "max_height": null,
            "max_width": null,
            "min_height": null,
            "min_width": null,
            "object_fit": null,
            "object_position": null,
            "order": null,
            "overflow": null,
            "overflow_x": null,
            "overflow_y": null,
            "padding": null,
            "right": null,
            "top": null,
            "visibility": null,
            "width": null
          }
        },
        "307a6cdb65f24c4fa360dc777d952fa0": {
          "model_module": "@jupyter-widgets/controls",
          "model_module_version": "1.5.0",
          "model_name": "DescriptionStyleModel",
          "state": {
            "_model_module": "@jupyter-widgets/controls",
            "_model_module_version": "1.5.0",
            "_model_name": "DescriptionStyleModel",
            "_view_count": null,
            "_view_module": "@jupyter-widgets/base",
            "_view_module_version": "1.2.0",
            "_view_name": "StyleView",
            "description_width": ""
          }
        },
        "359037edf7ff46c995920431f7576865": {
          "model_module": "@jupyter-widgets/controls",
          "model_module_version": "1.5.0",
          "model_name": "HTMLModel",
          "state": {
            "_dom_classes": [],
            "_model_module": "@jupyter-widgets/controls",
            "_model_module_version": "1.5.0",
            "_model_name": "HTMLModel",
            "_view_count": null,
            "_view_module": "@jupyter-widgets/controls",
            "_view_module_version": "1.5.0",
            "_view_name": "HTMLView",
            "description": "",
            "description_tooltip": null,
            "layout": "IPY_MODEL_8b18c32949a24bc7b03efb138682a029",
            "placeholder": "​",
            "style": "IPY_MODEL_6777cd66f3424be19e6cc6094e69f5a5",
            "value": "100%"
          }
        },
        "3754631d5ed14fc8bea240fe8d588a5a": {
          "model_module": "@jupyter-widgets/base",
          "model_module_version": "1.2.0",
          "model_name": "LayoutModel",
          "state": {
            "_model_module": "@jupyter-widgets/base",
            "_model_module_version": "1.2.0",
            "_model_name": "LayoutModel",
            "_view_count": null,
            "_view_module": "@jupyter-widgets/base",
            "_view_module_version": "1.2.0",
            "_view_name": "LayoutView",
            "align_content": null,
            "align_items": null,
            "align_self": null,
            "border": null,
            "bottom": null,
            "display": null,
            "flex": null,
            "flex_flow": null,
            "grid_area": null,
            "grid_auto_columns": null,
            "grid_auto_flow": null,
            "grid_auto_rows": null,
            "grid_column": null,
            "grid_gap": null,
            "grid_row": null,
            "grid_template_areas": null,
            "grid_template_columns": null,
            "grid_template_rows": null,
            "height": null,
            "justify_content": null,
            "justify_items": null,
            "left": null,
            "margin": null,
            "max_height": null,
            "max_width": null,
            "min_height": null,
            "min_width": null,
            "object_fit": null,
            "object_position": null,
            "order": null,
            "overflow": null,
            "overflow_x": null,
            "overflow_y": null,
            "padding": null,
            "right": null,
            "top": null,
            "visibility": null,
            "width": null
          }
        },
        "469696e3ba644bd68bf72d898326bfa5": {
          "model_module": "@jupyter-widgets/base",
          "model_module_version": "1.2.0",
          "model_name": "LayoutModel",
          "state": {
            "_model_module": "@jupyter-widgets/base",
            "_model_module_version": "1.2.0",
            "_model_name": "LayoutModel",
            "_view_count": null,
            "_view_module": "@jupyter-widgets/base",
            "_view_module_version": "1.2.0",
            "_view_name": "LayoutView",
            "align_content": null,
            "align_items": null,
            "align_self": null,
            "border": null,
            "bottom": null,
            "display": null,
            "flex": null,
            "flex_flow": null,
            "grid_area": null,
            "grid_auto_columns": null,
            "grid_auto_flow": null,
            "grid_auto_rows": null,
            "grid_column": null,
            "grid_gap": null,
            "grid_row": null,
            "grid_template_areas": null,
            "grid_template_columns": null,
            "grid_template_rows": null,
            "height": null,
            "justify_content": null,
            "justify_items": null,
            "left": null,
            "margin": null,
            "max_height": null,
            "max_width": null,
            "min_height": null,
            "min_width": null,
            "object_fit": null,
            "object_position": null,
            "order": null,
            "overflow": null,
            "overflow_x": null,
            "overflow_y": null,
            "padding": null,
            "right": null,
            "top": null,
            "visibility": null,
            "width": null
          }
        },
        "585fb26d5ede4d6d8bf5fec0b2e645e6": {
          "model_module": "@jupyter-widgets/controls",
          "model_module_version": "1.5.0",
          "model_name": "DescriptionStyleModel",
          "state": {
            "_model_module": "@jupyter-widgets/controls",
            "_model_module_version": "1.5.0",
            "_model_name": "DescriptionStyleModel",
            "_view_count": null,
            "_view_module": "@jupyter-widgets/base",
            "_view_module_version": "1.2.0",
            "_view_name": "StyleView",
            "description_width": ""
          }
        },
        "58e0c6101e7549b892cb5a8a6e49925a": {
          "model_module": "@jupyter-widgets/controls",
          "model_module_version": "1.5.0",
          "model_name": "HBoxModel",
          "state": {
            "_dom_classes": [],
            "_model_module": "@jupyter-widgets/controls",
            "_model_module_version": "1.5.0",
            "_model_name": "HBoxModel",
            "_view_count": null,
            "_view_module": "@jupyter-widgets/controls",
            "_view_module_version": "1.5.0",
            "_view_name": "HBoxView",
            "box_style": "",
            "children": [
              "IPY_MODEL_359037edf7ff46c995920431f7576865",
              "IPY_MODEL_c7a54591f6d144c385b34ad3ad60f3cc",
              "IPY_MODEL_cfbabc4ac7cc484cb243a4390d268e98"
            ],
            "layout": "IPY_MODEL_2bd3a7594e3e4ed6a1aaf7f294a97460"
          }
        },
        "5eaba87570d342198862f565d4cd4777": {
          "model_module": "@jupyter-widgets/controls",
          "model_module_version": "1.5.0",
          "model_name": "DescriptionStyleModel",
          "state": {
            "_model_module": "@jupyter-widgets/controls",
            "_model_module_version": "1.5.0",
            "_model_name": "DescriptionStyleModel",
            "_view_count": null,
            "_view_module": "@jupyter-widgets/base",
            "_view_module_version": "1.2.0",
            "_view_name": "StyleView",
            "description_width": ""
          }
        },
        "6777cd66f3424be19e6cc6094e69f5a5": {
          "model_module": "@jupyter-widgets/controls",
          "model_module_version": "1.5.0",
          "model_name": "DescriptionStyleModel",
          "state": {
            "_model_module": "@jupyter-widgets/controls",
            "_model_module_version": "1.5.0",
            "_model_name": "DescriptionStyleModel",
            "_view_count": null,
            "_view_module": "@jupyter-widgets/base",
            "_view_module_version": "1.2.0",
            "_view_name": "StyleView",
            "description_width": ""
          }
        },
        "6b82835495aa4e9097f5a899ddbb6852": {
          "model_module": "@jupyter-widgets/base",
          "model_module_version": "1.2.0",
          "model_name": "LayoutModel",
          "state": {
            "_model_module": "@jupyter-widgets/base",
            "_model_module_version": "1.2.0",
            "_model_name": "LayoutModel",
            "_view_count": null,
            "_view_module": "@jupyter-widgets/base",
            "_view_module_version": "1.2.0",
            "_view_name": "LayoutView",
            "align_content": null,
            "align_items": null,
            "align_self": null,
            "border": null,
            "bottom": null,
            "display": null,
            "flex": null,
            "flex_flow": null,
            "grid_area": null,
            "grid_auto_columns": null,
            "grid_auto_flow": null,
            "grid_auto_rows": null,
            "grid_column": null,
            "grid_gap": null,
            "grid_row": null,
            "grid_template_areas": null,
            "grid_template_columns": null,
            "grid_template_rows": null,
            "height": null,
            "justify_content": null,
            "justify_items": null,
            "left": null,
            "margin": null,
            "max_height": null,
            "max_width": null,
            "min_height": null,
            "min_width": null,
            "object_fit": null,
            "object_position": null,
            "order": null,
            "overflow": null,
            "overflow_x": null,
            "overflow_y": null,
            "padding": null,
            "right": null,
            "top": null,
            "visibility": null,
            "width": null
          }
        },
        "6ee29cc2264e4765899e36478eead4a3": {
          "model_module": "@jupyter-widgets/controls",
          "model_module_version": "1.5.0",
          "model_name": "HTMLModel",
          "state": {
            "_dom_classes": [],
            "_model_module": "@jupyter-widgets/controls",
            "_model_module_version": "1.5.0",
            "_model_name": "HTMLModel",
            "_view_count": null,
            "_view_module": "@jupyter-widgets/controls",
            "_view_module_version": "1.5.0",
            "_view_name": "HTMLView",
            "description": "",
            "description_tooltip": null,
            "layout": "IPY_MODEL_2570777bba464d1cbe74a9ccca704b2c",
            "placeholder": "​",
            "style": "IPY_MODEL_c4f95ceb6ec94c3985a2f3294e105c55",
            "value": " 28881/28881 [00:00&lt;00:00, 1704887.88it/s]"
          }
        },
        "6fcc56f15384456b93ba7c0ac9e611a5": {
          "model_module": "@jupyter-widgets/controls",
          "model_module_version": "1.5.0",
          "model_name": "ProgressStyleModel",
          "state": {
            "_model_module": "@jupyter-widgets/controls",
            "_model_module_version": "1.5.0",
            "_model_name": "ProgressStyleModel",
            "_view_count": null,
            "_view_module": "@jupyter-widgets/base",
            "_view_module_version": "1.2.0",
            "_view_name": "StyleView",
            "bar_color": null,
            "description_width": ""
          }
        },
        "706488ba8f0f4cb1943bdb4938ce9a19": {
          "model_module": "@jupyter-widgets/base",
          "model_module_version": "1.2.0",
          "model_name": "LayoutModel",
          "state": {
            "_model_module": "@jupyter-widgets/base",
            "_model_module_version": "1.2.0",
            "_model_name": "LayoutModel",
            "_view_count": null,
            "_view_module": "@jupyter-widgets/base",
            "_view_module_version": "1.2.0",
            "_view_name": "LayoutView",
            "align_content": null,
            "align_items": null,
            "align_self": null,
            "border": null,
            "bottom": null,
            "display": null,
            "flex": null,
            "flex_flow": null,
            "grid_area": null,
            "grid_auto_columns": null,
            "grid_auto_flow": null,
            "grid_auto_rows": null,
            "grid_column": null,
            "grid_gap": null,
            "grid_row": null,
            "grid_template_areas": null,
            "grid_template_columns": null,
            "grid_template_rows": null,
            "height": null,
            "justify_content": null,
            "justify_items": null,
            "left": null,
            "margin": null,
            "max_height": null,
            "max_width": null,
            "min_height": null,
            "min_width": null,
            "object_fit": null,
            "object_position": null,
            "order": null,
            "overflow": null,
            "overflow_x": null,
            "overflow_y": null,
            "padding": null,
            "right": null,
            "top": null,
            "visibility": null,
            "width": null
          }
        },
        "7091753ec5104f819a34ab206c6a66cc": {
          "model_module": "@jupyter-widgets/controls",
          "model_module_version": "1.5.0",
          "model_name": "HBoxModel",
          "state": {
            "_dom_classes": [],
            "_model_module": "@jupyter-widgets/controls",
            "_model_module_version": "1.5.0",
            "_model_name": "HBoxModel",
            "_view_count": null,
            "_view_module": "@jupyter-widgets/controls",
            "_view_module_version": "1.5.0",
            "_view_name": "HBoxView",
            "box_style": "",
            "children": [
              "IPY_MODEL_b3da87e254e342e3898d3e30d9d0cf41",
              "IPY_MODEL_f231492f2a32496095b18b629132faca",
              "IPY_MODEL_82b4cb6353334c1baff1437f25cfa61a"
            ],
            "layout": "IPY_MODEL_f455c5aa4da6458995f9a9e4b3ec0026"
          }
        },
        "7be68865ca254755829552eed11c70a0": {
          "model_module": "@jupyter-widgets/controls",
          "model_module_version": "1.5.0",
          "model_name": "HBoxModel",
          "state": {
            "_dom_classes": [],
            "_model_module": "@jupyter-widgets/controls",
            "_model_module_version": "1.5.0",
            "_model_name": "HBoxModel",
            "_view_count": null,
            "_view_module": "@jupyter-widgets/controls",
            "_view_module_version": "1.5.0",
            "_view_name": "HBoxView",
            "box_style": "",
            "children": [
              "IPY_MODEL_c1a599e4c0fd47d0a68387ccf50a9934",
              "IPY_MODEL_cdbe30eeedb34b499713afffe48775be",
              "IPY_MODEL_6ee29cc2264e4765899e36478eead4a3"
            ],
            "layout": "IPY_MODEL_ab88ea04c9d4490498385ed61c9cc9d9"
          }
        },
        "82b4cb6353334c1baff1437f25cfa61a": {
          "model_module": "@jupyter-widgets/controls",
          "model_module_version": "1.5.0",
          "model_name": "HTMLModel",
          "state": {
            "_dom_classes": [],
            "_model_module": "@jupyter-widgets/controls",
            "_model_module_version": "1.5.0",
            "_model_name": "HTMLModel",
            "_view_count": null,
            "_view_module": "@jupyter-widgets/controls",
            "_view_module_version": "1.5.0",
            "_view_name": "HTMLView",
            "description": "",
            "description_tooltip": null,
            "layout": "IPY_MODEL_efaf15a21993404e9c8fbd7f0a6b729a",
            "placeholder": "​",
            "style": "IPY_MODEL_307a6cdb65f24c4fa360dc777d952fa0",
            "value": " 1648877/1648877 [00:00&lt;00:00, 42806158.57it/s]"
          }
        },
        "8b18c32949a24bc7b03efb138682a029": {
          "model_module": "@jupyter-widgets/base",
          "model_module_version": "1.2.0",
          "model_name": "LayoutModel",
          "state": {
            "_model_module": "@jupyter-widgets/base",
            "_model_module_version": "1.2.0",
            "_model_name": "LayoutModel",
            "_view_count": null,
            "_view_module": "@jupyter-widgets/base",
            "_view_module_version": "1.2.0",
            "_view_name": "LayoutView",
            "align_content": null,
            "align_items": null,
            "align_self": null,
            "border": null,
            "bottom": null,
            "display": null,
            "flex": null,
            "flex_flow": null,
            "grid_area": null,
            "grid_auto_columns": null,
            "grid_auto_flow": null,
            "grid_auto_rows": null,
            "grid_column": null,
            "grid_gap": null,
            "grid_row": null,
            "grid_template_areas": null,
            "grid_template_columns": null,
            "grid_template_rows": null,
            "height": null,
            "justify_content": null,
            "justify_items": null,
            "left": null,
            "margin": null,
            "max_height": null,
            "max_width": null,
            "min_height": null,
            "min_width": null,
            "object_fit": null,
            "object_position": null,
            "order": null,
            "overflow": null,
            "overflow_x": null,
            "overflow_y": null,
            "padding": null,
            "right": null,
            "top": null,
            "visibility": null,
            "width": null
          }
        },
        "94366797cc4c43ba904d8961ebaecfc3": {
          "model_module": "@jupyter-widgets/base",
          "model_module_version": "1.2.0",
          "model_name": "LayoutModel",
          "state": {
            "_model_module": "@jupyter-widgets/base",
            "_model_module_version": "1.2.0",
            "_model_name": "LayoutModel",
            "_view_count": null,
            "_view_module": "@jupyter-widgets/base",
            "_view_module_version": "1.2.0",
            "_view_name": "LayoutView",
            "align_content": null,
            "align_items": null,
            "align_self": null,
            "border": null,
            "bottom": null,
            "display": null,
            "flex": null,
            "flex_flow": null,
            "grid_area": null,
            "grid_auto_columns": null,
            "grid_auto_flow": null,
            "grid_auto_rows": null,
            "grid_column": null,
            "grid_gap": null,
            "grid_row": null,
            "grid_template_areas": null,
            "grid_template_columns": null,
            "grid_template_rows": null,
            "height": null,
            "justify_content": null,
            "justify_items": null,
            "left": null,
            "margin": null,
            "max_height": null,
            "max_width": null,
            "min_height": null,
            "min_width": null,
            "object_fit": null,
            "object_position": null,
            "order": null,
            "overflow": null,
            "overflow_x": null,
            "overflow_y": null,
            "padding": null,
            "right": null,
            "top": null,
            "visibility": null,
            "width": null
          }
        },
        "97a9ee662c444ad28639fe7a537e9f72": {
          "model_module": "@jupyter-widgets/base",
          "model_module_version": "1.2.0",
          "model_name": "LayoutModel",
          "state": {
            "_model_module": "@jupyter-widgets/base",
            "_model_module_version": "1.2.0",
            "_model_name": "LayoutModel",
            "_view_count": null,
            "_view_module": "@jupyter-widgets/base",
            "_view_module_version": "1.2.0",
            "_view_name": "LayoutView",
            "align_content": null,
            "align_items": null,
            "align_self": null,
            "border": null,
            "bottom": null,
            "display": null,
            "flex": null,
            "flex_flow": null,
            "grid_area": null,
            "grid_auto_columns": null,
            "grid_auto_flow": null,
            "grid_auto_rows": null,
            "grid_column": null,
            "grid_gap": null,
            "grid_row": null,
            "grid_template_areas": null,
            "grid_template_columns": null,
            "grid_template_rows": null,
            "height": null,
            "justify_content": null,
            "justify_items": null,
            "left": null,
            "margin": null,
            "max_height": null,
            "max_width": null,
            "min_height": null,
            "min_width": null,
            "object_fit": null,
            "object_position": null,
            "order": null,
            "overflow": null,
            "overflow_x": null,
            "overflow_y": null,
            "padding": null,
            "right": null,
            "top": null,
            "visibility": null,
            "width": null
          }
        },
        "ab88ea04c9d4490498385ed61c9cc9d9": {
          "model_module": "@jupyter-widgets/base",
          "model_module_version": "1.2.0",
          "model_name": "LayoutModel",
          "state": {
            "_model_module": "@jupyter-widgets/base",
            "_model_module_version": "1.2.0",
            "_model_name": "LayoutModel",
            "_view_count": null,
            "_view_module": "@jupyter-widgets/base",
            "_view_module_version": "1.2.0",
            "_view_name": "LayoutView",
            "align_content": null,
            "align_items": null,
            "align_self": null,
            "border": null,
            "bottom": null,
            "display": null,
            "flex": null,
            "flex_flow": null,
            "grid_area": null,
            "grid_auto_columns": null,
            "grid_auto_flow": null,
            "grid_auto_rows": null,
            "grid_column": null,
            "grid_gap": null,
            "grid_row": null,
            "grid_template_areas": null,
            "grid_template_columns": null,
            "grid_template_rows": null,
            "height": null,
            "justify_content": null,
            "justify_items": null,
            "left": null,
            "margin": null,
            "max_height": null,
            "max_width": null,
            "min_height": null,
            "min_width": null,
            "object_fit": null,
            "object_position": null,
            "order": null,
            "overflow": null,
            "overflow_x": null,
            "overflow_y": null,
            "padding": null,
            "right": null,
            "top": null,
            "visibility": null,
            "width": null
          }
        },
        "b3da87e254e342e3898d3e30d9d0cf41": {
          "model_module": "@jupyter-widgets/controls",
          "model_module_version": "1.5.0",
          "model_name": "HTMLModel",
          "state": {
            "_dom_classes": [],
            "_model_module": "@jupyter-widgets/controls",
            "_model_module_version": "1.5.0",
            "_model_name": "HTMLModel",
            "_view_count": null,
            "_view_module": "@jupyter-widgets/controls",
            "_view_module_version": "1.5.0",
            "_view_name": "HTMLView",
            "description": "",
            "description_tooltip": null,
            "layout": "IPY_MODEL_6b82835495aa4e9097f5a899ddbb6852",
            "placeholder": "​",
            "style": "IPY_MODEL_2489d125501349319c5f2f826a9e892c",
            "value": "100%"
          }
        },
        "c1a599e4c0fd47d0a68387ccf50a9934": {
          "model_module": "@jupyter-widgets/controls",
          "model_module_version": "1.5.0",
          "model_name": "HTMLModel",
          "state": {
            "_dom_classes": [],
            "_model_module": "@jupyter-widgets/controls",
            "_model_module_version": "1.5.0",
            "_model_name": "HTMLModel",
            "_view_count": null,
            "_view_module": "@jupyter-widgets/controls",
            "_view_module_version": "1.5.0",
            "_view_name": "HTMLView",
            "description": "",
            "description_tooltip": null,
            "layout": "IPY_MODEL_94366797cc4c43ba904d8961ebaecfc3",
            "placeholder": "​",
            "style": "IPY_MODEL_585fb26d5ede4d6d8bf5fec0b2e645e6",
            "value": "100%"
          }
        },
        "c4172fb97e484b68a5cabf8922084a78": {
          "model_module": "@jupyter-widgets/controls",
          "model_module_version": "1.5.0",
          "model_name": "HTMLModel",
          "state": {
            "_dom_classes": [],
            "_model_module": "@jupyter-widgets/controls",
            "_model_module_version": "1.5.0",
            "_model_name": "HTMLModel",
            "_view_count": null,
            "_view_module": "@jupyter-widgets/controls",
            "_view_module_version": "1.5.0",
            "_view_name": "HTMLView",
            "description": "",
            "description_tooltip": null,
            "layout": "IPY_MODEL_d3af28bf26ae4ec6a506cd16b11f2663",
            "placeholder": "​",
            "style": "IPY_MODEL_e0dae762ba7c495dbb66b5d5dc0a18b3",
            "value": " 4542/4542 [00:00&lt;00:00, 186749.75it/s]"
          }
        },
        "c4f95ceb6ec94c3985a2f3294e105c55": {
          "model_module": "@jupyter-widgets/controls",
          "model_module_version": "1.5.0",
          "model_name": "DescriptionStyleModel",
          "state": {
            "_model_module": "@jupyter-widgets/controls",
            "_model_module_version": "1.5.0",
            "_model_name": "DescriptionStyleModel",
            "_view_count": null,
            "_view_module": "@jupyter-widgets/base",
            "_view_module_version": "1.2.0",
            "_view_name": "StyleView",
            "description_width": ""
          }
        },
        "c7a54591f6d144c385b34ad3ad60f3cc": {
          "model_module": "@jupyter-widgets/controls",
          "model_module_version": "1.5.0",
          "model_name": "FloatProgressModel",
          "state": {
            "_dom_classes": [],
            "_model_module": "@jupyter-widgets/controls",
            "_model_module_version": "1.5.0",
            "_model_name": "FloatProgressModel",
            "_view_count": null,
            "_view_module": "@jupyter-widgets/controls",
            "_view_module_version": "1.5.0",
            "_view_name": "ProgressView",
            "bar_style": "success",
            "description": "",
            "description_tooltip": null,
            "layout": "IPY_MODEL_469696e3ba644bd68bf72d898326bfa5",
            "max": 9912422,
            "min": 0,
            "orientation": "horizontal",
            "style": "IPY_MODEL_6fcc56f15384456b93ba7c0ac9e611a5",
            "value": 9912422
          }
        },
        "cdbe30eeedb34b499713afffe48775be": {
          "model_module": "@jupyter-widgets/controls",
          "model_module_version": "1.5.0",
          "model_name": "FloatProgressModel",
          "state": {
            "_dom_classes": [],
            "_model_module": "@jupyter-widgets/controls",
            "_model_module_version": "1.5.0",
            "_model_name": "FloatProgressModel",
            "_view_count": null,
            "_view_module": "@jupyter-widgets/controls",
            "_view_module_version": "1.5.0",
            "_view_name": "ProgressView",
            "bar_style": "success",
            "description": "",
            "description_tooltip": null,
            "layout": "IPY_MODEL_02072e8a53f54484912743a8de303646",
            "max": 28881,
            "min": 0,
            "orientation": "horizontal",
            "style": "IPY_MODEL_232d330125974a5cb1e6ba0caaf5fe7c",
            "value": 28881
          }
        },
        "cfbabc4ac7cc484cb243a4390d268e98": {
          "model_module": "@jupyter-widgets/controls",
          "model_module_version": "1.5.0",
          "model_name": "HTMLModel",
          "state": {
            "_dom_classes": [],
            "_model_module": "@jupyter-widgets/controls",
            "_model_module_version": "1.5.0",
            "_model_name": "HTMLModel",
            "_view_count": null,
            "_view_module": "@jupyter-widgets/controls",
            "_view_module_version": "1.5.0",
            "_view_name": "HTMLView",
            "description": "",
            "description_tooltip": null,
            "layout": "IPY_MODEL_fda44eef0e804328ab6c783d11f22b6c",
            "placeholder": "​",
            "style": "IPY_MODEL_5eaba87570d342198862f565d4cd4777",
            "value": " 9912422/9912422 [00:00&lt;00:00, 171774196.69it/s]"
          }
        },
        "d3af28bf26ae4ec6a506cd16b11f2663": {
          "model_module": "@jupyter-widgets/base",
          "model_module_version": "1.2.0",
          "model_name": "LayoutModel",
          "state": {
            "_model_module": "@jupyter-widgets/base",
            "_model_module_version": "1.2.0",
            "_model_name": "LayoutModel",
            "_view_count": null,
            "_view_module": "@jupyter-widgets/base",
            "_view_module_version": "1.2.0",
            "_view_name": "LayoutView",
            "align_content": null,
            "align_items": null,
            "align_self": null,
            "border": null,
            "bottom": null,
            "display": null,
            "flex": null,
            "flex_flow": null,
            "grid_area": null,
            "grid_auto_columns": null,
            "grid_auto_flow": null,
            "grid_auto_rows": null,
            "grid_column": null,
            "grid_gap": null,
            "grid_row": null,
            "grid_template_areas": null,
            "grid_template_columns": null,
            "grid_template_rows": null,
            "height": null,
            "justify_content": null,
            "justify_items": null,
            "left": null,
            "margin": null,
            "max_height": null,
            "max_width": null,
            "min_height": null,
            "min_width": null,
            "object_fit": null,
            "object_position": null,
            "order": null,
            "overflow": null,
            "overflow_x": null,
            "overflow_y": null,
            "padding": null,
            "right": null,
            "top": null,
            "visibility": null,
            "width": null
          }
        },
        "d6bdff5960d843e995f9706b854f352c": {
          "model_module": "@jupyter-widgets/controls",
          "model_module_version": "1.5.0",
          "model_name": "ProgressStyleModel",
          "state": {
            "_model_module": "@jupyter-widgets/controls",
            "_model_module_version": "1.5.0",
            "_model_name": "ProgressStyleModel",
            "_view_count": null,
            "_view_module": "@jupyter-widgets/base",
            "_view_module_version": "1.2.0",
            "_view_name": "StyleView",
            "bar_color": null,
            "description_width": ""
          }
        },
        "da55ae58104c472f8dc21e77e7858b29": {
          "model_module": "@jupyter-widgets/controls",
          "model_module_version": "1.5.0",
          "model_name": "HTMLModel",
          "state": {
            "_dom_classes": [],
            "_model_module": "@jupyter-widgets/controls",
            "_model_module_version": "1.5.0",
            "_model_name": "HTMLModel",
            "_view_count": null,
            "_view_module": "@jupyter-widgets/controls",
            "_view_module_version": "1.5.0",
            "_view_name": "HTMLView",
            "description": "",
            "description_tooltip": null,
            "layout": "IPY_MODEL_97a9ee662c444ad28639fe7a537e9f72",
            "placeholder": "​",
            "style": "IPY_MODEL_f0e26282e81b4a0fbf3ac4ed8ce69dcd",
            "value": "100%"
          }
        },
        "e0dae762ba7c495dbb66b5d5dc0a18b3": {
          "model_module": "@jupyter-widgets/controls",
          "model_module_version": "1.5.0",
          "model_name": "DescriptionStyleModel",
          "state": {
            "_model_module": "@jupyter-widgets/controls",
            "_model_module_version": "1.5.0",
            "_model_name": "DescriptionStyleModel",
            "_view_count": null,
            "_view_module": "@jupyter-widgets/base",
            "_view_module_version": "1.2.0",
            "_view_name": "StyleView",
            "description_width": ""
          }
        },
        "efaf15a21993404e9c8fbd7f0a6b729a": {
          "model_module": "@jupyter-widgets/base",
          "model_module_version": "1.2.0",
          "model_name": "LayoutModel",
          "state": {
            "_model_module": "@jupyter-widgets/base",
            "_model_module_version": "1.2.0",
            "_model_name": "LayoutModel",
            "_view_count": null,
            "_view_module": "@jupyter-widgets/base",
            "_view_module_version": "1.2.0",
            "_view_name": "LayoutView",
            "align_content": null,
            "align_items": null,
            "align_self": null,
            "border": null,
            "bottom": null,
            "display": null,
            "flex": null,
            "flex_flow": null,
            "grid_area": null,
            "grid_auto_columns": null,
            "grid_auto_flow": null,
            "grid_auto_rows": null,
            "grid_column": null,
            "grid_gap": null,
            "grid_row": null,
            "grid_template_areas": null,
            "grid_template_columns": null,
            "grid_template_rows": null,
            "height": null,
            "justify_content": null,
            "justify_items": null,
            "left": null,
            "margin": null,
            "max_height": null,
            "max_width": null,
            "min_height": null,
            "min_width": null,
            "object_fit": null,
            "object_position": null,
            "order": null,
            "overflow": null,
            "overflow_x": null,
            "overflow_y": null,
            "padding": null,
            "right": null,
            "top": null,
            "visibility": null,
            "width": null
          }
        },
        "f0e26282e81b4a0fbf3ac4ed8ce69dcd": {
          "model_module": "@jupyter-widgets/controls",
          "model_module_version": "1.5.0",
          "model_name": "DescriptionStyleModel",
          "state": {
            "_model_module": "@jupyter-widgets/controls",
            "_model_module_version": "1.5.0",
            "_model_name": "DescriptionStyleModel",
            "_view_count": null,
            "_view_module": "@jupyter-widgets/base",
            "_view_module_version": "1.2.0",
            "_view_name": "StyleView",
            "description_width": ""
          }
        },
        "f231492f2a32496095b18b629132faca": {
          "model_module": "@jupyter-widgets/controls",
          "model_module_version": "1.5.0",
          "model_name": "FloatProgressModel",
          "state": {
            "_dom_classes": [],
            "_model_module": "@jupyter-widgets/controls",
            "_model_module_version": "1.5.0",
            "_model_name": "FloatProgressModel",
            "_view_count": null,
            "_view_module": "@jupyter-widgets/controls",
            "_view_module_version": "1.5.0",
            "_view_name": "ProgressView",
            "bar_style": "success",
            "description": "",
            "description_tooltip": null,
            "layout": "IPY_MODEL_706488ba8f0f4cb1943bdb4938ce9a19",
            "max": 1648877,
            "min": 0,
            "orientation": "horizontal",
            "style": "IPY_MODEL_291f8ab1da0e4e47bb59a12f0d39f51b",
            "value": 1648877
          }
        },
        "f455c5aa4da6458995f9a9e4b3ec0026": {
          "model_module": "@jupyter-widgets/base",
          "model_module_version": "1.2.0",
          "model_name": "LayoutModel",
          "state": {
            "_model_module": "@jupyter-widgets/base",
            "_model_module_version": "1.2.0",
            "_model_name": "LayoutModel",
            "_view_count": null,
            "_view_module": "@jupyter-widgets/base",
            "_view_module_version": "1.2.0",
            "_view_name": "LayoutView",
            "align_content": null,
            "align_items": null,
            "align_self": null,
            "border": null,
            "bottom": null,
            "display": null,
            "flex": null,
            "flex_flow": null,
            "grid_area": null,
            "grid_auto_columns": null,
            "grid_auto_flow": null,
            "grid_auto_rows": null,
            "grid_column": null,
            "grid_gap": null,
            "grid_row": null,
            "grid_template_areas": null,
            "grid_template_columns": null,
            "grid_template_rows": null,
            "height": null,
            "justify_content": null,
            "justify_items": null,
            "left": null,
            "margin": null,
            "max_height": null,
            "max_width": null,
            "min_height": null,
            "min_width": null,
            "object_fit": null,
            "object_position": null,
            "order": null,
            "overflow": null,
            "overflow_x": null,
            "overflow_y": null,
            "padding": null,
            "right": null,
            "top": null,
            "visibility": null,
            "width": null
          }
        },
        "fda44eef0e804328ab6c783d11f22b6c": {
          "model_module": "@jupyter-widgets/base",
          "model_module_version": "1.2.0",
          "model_name": "LayoutModel",
          "state": {
            "_model_module": "@jupyter-widgets/base",
            "_model_module_version": "1.2.0",
            "_model_name": "LayoutModel",
            "_view_count": null,
            "_view_module": "@jupyter-widgets/base",
            "_view_module_version": "1.2.0",
            "_view_name": "LayoutView",
            "align_content": null,
            "align_items": null,
            "align_self": null,
            "border": null,
            "bottom": null,
            "display": null,
            "flex": null,
            "flex_flow": null,
            "grid_area": null,
            "grid_auto_columns": null,
            "grid_auto_flow": null,
            "grid_auto_rows": null,
            "grid_column": null,
            "grid_gap": null,
            "grid_row": null,
            "grid_template_areas": null,
            "grid_template_columns": null,
            "grid_template_rows": null,
            "height": null,
            "justify_content": null,
            "justify_items": null,
            "left": null,
            "margin": null,
            "max_height": null,
            "max_width": null,
            "min_height": null,
            "min_width": null,
            "object_fit": null,
            "object_position": null,
            "order": null,
            "overflow": null,
            "overflow_x": null,
            "overflow_y": null,
            "padding": null,
            "right": null,
            "top": null,
            "visibility": null,
            "width": null
          }
        }
      }
    }
  },
  "nbformat": 4,
  "nbformat_minor": 0
}
