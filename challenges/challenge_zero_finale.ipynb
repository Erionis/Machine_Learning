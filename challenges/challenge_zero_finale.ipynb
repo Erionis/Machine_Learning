{
  "cells": [
    {
      "cell_type": "markdown",
      "id": "2adzcfnbRZZY",
      "metadata": {
        "id": "2adzcfnbRZZY"
      },
      "source": [
        "# Challenge $0$\n",
        "\n",
        "                                   Erion Islamay, Nicola Zucchia, Vittorio Amoruso, Nicola Cortinovis\n"
      ]
    },
    {
      "cell_type": "markdown",
      "id": "eccd6e67",
      "metadata": {
        "id": "eccd6e67"
      },
      "source": [
        "### 1. ***Data cleaning with Pandas***\n",
        "\n",
        "Use the library `pandas` to load and clean the required dataset."
      ]
    },
    {
      "cell_type": "code",
      "execution_count": 1,
      "id": "39ae18d1",
      "metadata": {
        "id": "39ae18d1"
      },
      "outputs": [],
      "source": [
        "import numpy as np\n",
        "import matplotlib.pyplot as plt\n",
        "import pandas as pd  \n",
        "import os"
      ]
    },
    {
      "cell_type": "markdown",
      "id": "6XPiwcNUPJAw",
      "metadata": {
        "id": "6XPiwcNUPJAw"
      },
      "source": [
        "Obtain the data file"
      ]
    },
    {
      "cell_type": "code",
      "execution_count": 2,
      "id": "AkGFWaHZOi-l",
      "metadata": {
        "id": "AkGFWaHZOi-l"
      },
      "outputs": [
        {
          "name": "stdout",
          "output_type": "stream",
          "text": [
            "File already exists\n",
            "File is readable\n"
          ]
        }
      ],
      "source": [
        "FFILE = './50_Startups.csv'\n",
        "if os.path.isfile(FFILE): \n",
        "    print(\"File already exists\")\n",
        "    if os.access(FFILE, os.R_OK):\n",
        "        print (\"File is readable\")\n",
        "    else:\n",
        "        print (\"File is not readable, removing it and downloading again\")\n",
        "        !rm FFILE\n",
        "        !wget \"https://raw.github.com/alexdepremia/ML_IADA_UTs/main/challenge_0/50_Startups.csv\"\n",
        "else:\n",
        "    print(\"Either the file is missing or not readable, download it\")\n",
        "    !wget \"https://raw.github.com/alexdepremia/ML_IADA_UTs/main/challenge_0/50_Startups.csv\""
      ]
    },
    {
      "cell_type": "code",
      "execution_count": 3,
      "id": "984f3c35",
      "metadata": {
        "id": "984f3c35"
      },
      "outputs": [],
      "source": [
        "# load the dataset using pandas\n",
        "data = pd.read_csv('50_Startups.csv')\n",
        "# extract data feature matrix and labels\n",
        "X = data.iloc[:,:-2].values\n",
        "y = data.iloc[:,3].values\n",
        "df = pd.DataFrame(data)"
      ]
    },
    {
      "cell_type": "markdown",
      "id": "6c52b5bb",
      "metadata": {
        "id": "6c52b5bb"
      },
      "source": [
        "***Play with data***"
      ]
    },
    {
      "cell_type": "code",
      "execution_count": 4,
      "id": "6bc66e09",
      "metadata": {
        "id": "6bc66e09",
        "scrolled": true
      },
      "outputs": [
        {
          "data": {
            "text/plain": [
              "(50, 5)"
            ]
          },
          "execution_count": 4,
          "metadata": {},
          "output_type": "execute_result"
        }
      ],
      "source": [
        "df.shape"
      ]
    },
    {
      "cell_type": "code",
      "execution_count": 5,
      "id": "9f5107f7",
      "metadata": {
        "id": "9f5107f7"
      },
      "outputs": [
        {
          "name": "stderr",
          "output_type": "stream",
          "text": [
            "/var/folders/76/hd1xd3w906j96g4_pdrtx6zr0000gn/T/ipykernel_69533/1343828299.py:1: FutureWarning: The default value of numeric_only in DataFrame.mean is deprecated. In a future version, it will default to False. In addition, specifying 'numeric_only=None' is deprecated. Select only valid columns or specify the value of numeric_only to silence this warning.\n",
            "  df.replace(to_replace = 0.00, value = df.mean(axis=0), inplace=True)  # inject the mean of the column when value is 0\n"
          ]
        },
        {
          "data": {
            "text/html": [
              "<div>\n",
              "<style scoped>\n",
              "    .dataframe tbody tr th:only-of-type {\n",
              "        vertical-align: middle;\n",
              "    }\n",
              "\n",
              "    .dataframe tbody tr th {\n",
              "        vertical-align: top;\n",
              "    }\n",
              "\n",
              "    .dataframe thead th {\n",
              "        text-align: right;\n",
              "    }\n",
              "</style>\n",
              "<table border=\"1\" class=\"dataframe\">\n",
              "  <thead>\n",
              "    <tr style=\"text-align: right;\">\n",
              "      <th></th>\n",
              "      <th>R&amp;D Spend</th>\n",
              "      <th>Administration</th>\n",
              "      <th>Marketing Spend</th>\n",
              "      <th>State</th>\n",
              "      <th>Profit</th>\n",
              "    </tr>\n",
              "  </thead>\n",
              "  <tbody>\n",
              "    <tr>\n",
              "      <th>0</th>\n",
              "      <td>165349.20</td>\n",
              "      <td>136897.80</td>\n",
              "      <td>471784.10</td>\n",
              "      <td>New York</td>\n",
              "      <td>192261.83</td>\n",
              "    </tr>\n",
              "    <tr>\n",
              "      <th>1</th>\n",
              "      <td>162597.70</td>\n",
              "      <td>151377.59</td>\n",
              "      <td>443898.53</td>\n",
              "      <td>California</td>\n",
              "      <td>191792.06</td>\n",
              "    </tr>\n",
              "    <tr>\n",
              "      <th>2</th>\n",
              "      <td>153441.51</td>\n",
              "      <td>101145.55</td>\n",
              "      <td>407934.54</td>\n",
              "      <td>Florida</td>\n",
              "      <td>191050.39</td>\n",
              "    </tr>\n",
              "    <tr>\n",
              "      <th>3</th>\n",
              "      <td>144372.41</td>\n",
              "      <td>118671.85</td>\n",
              "      <td>383199.62</td>\n",
              "      <td>New York</td>\n",
              "      <td>182901.99</td>\n",
              "    </tr>\n",
              "    <tr>\n",
              "      <th>4</th>\n",
              "      <td>142107.34</td>\n",
              "      <td>91391.77</td>\n",
              "      <td>366168.42</td>\n",
              "      <td>Florida</td>\n",
              "      <td>166187.94</td>\n",
              "    </tr>\n",
              "  </tbody>\n",
              "</table>\n",
              "</div>"
            ],
            "text/plain": [
              "   R&D Spend  Administration  Marketing Spend       State     Profit\n",
              "0  165349.20       136897.80        471784.10    New York  192261.83\n",
              "1  162597.70       151377.59        443898.53  California  191792.06\n",
              "2  153441.51       101145.55        407934.54     Florida  191050.39\n",
              "3  144372.41       118671.85        383199.62    New York  182901.99\n",
              "4  142107.34        91391.77        366168.42     Florida  166187.94"
            ]
          },
          "execution_count": 5,
          "metadata": {},
          "output_type": "execute_result"
        }
      ],
      "source": [
        "df.replace(to_replace = 0.00, value = df.mean(axis=0), inplace=True)  # inject the mean of the column when value is 0\n",
        "df.head() "
      ]
    },
    {
      "cell_type": "markdown",
      "id": "3bfef008",
      "metadata": {
        "id": "3bfef008"
      },
      "source": [
        "***Select two categories for binary classification*** "
      ]
    },
    {
      "cell_type": "code",
      "execution_count": 6,
      "id": "57f10ca0",
      "metadata": {
        "id": "57f10ca0"
      },
      "outputs": [
        {
          "data": {
            "text/html": [
              "<div>\n",
              "<style scoped>\n",
              "    .dataframe tbody tr th:only-of-type {\n",
              "        vertical-align: middle;\n",
              "    }\n",
              "\n",
              "    .dataframe tbody tr th {\n",
              "        vertical-align: top;\n",
              "    }\n",
              "\n",
              "    .dataframe thead th {\n",
              "        text-align: right;\n",
              "    }\n",
              "</style>\n",
              "<table border=\"1\" class=\"dataframe\">\n",
              "  <thead>\n",
              "    <tr style=\"text-align: right;\">\n",
              "      <th></th>\n",
              "      <th>R&amp;D Spend</th>\n",
              "      <th>Administration</th>\n",
              "      <th>Marketing Spend</th>\n",
              "      <th>State</th>\n",
              "      <th>Profit</th>\n",
              "    </tr>\n",
              "  </thead>\n",
              "  <tbody>\n",
              "    <tr>\n",
              "      <th>1</th>\n",
              "      <td>162597.70</td>\n",
              "      <td>151377.59</td>\n",
              "      <td>443898.53</td>\n",
              "      <td>California</td>\n",
              "      <td>191792.06</td>\n",
              "    </tr>\n",
              "    <tr>\n",
              "      <th>2</th>\n",
              "      <td>153441.51</td>\n",
              "      <td>101145.55</td>\n",
              "      <td>407934.54</td>\n",
              "      <td>Florida</td>\n",
              "      <td>191050.39</td>\n",
              "    </tr>\n",
              "    <tr>\n",
              "      <th>4</th>\n",
              "      <td>142107.34</td>\n",
              "      <td>91391.77</td>\n",
              "      <td>366168.42</td>\n",
              "      <td>Florida</td>\n",
              "      <td>166187.94</td>\n",
              "    </tr>\n",
              "    <tr>\n",
              "      <th>6</th>\n",
              "      <td>134615.46</td>\n",
              "      <td>147198.87</td>\n",
              "      <td>127716.82</td>\n",
              "      <td>California</td>\n",
              "      <td>156122.51</td>\n",
              "    </tr>\n",
              "    <tr>\n",
              "      <th>7</th>\n",
              "      <td>130298.13</td>\n",
              "      <td>145530.06</td>\n",
              "      <td>323876.68</td>\n",
              "      <td>Florida</td>\n",
              "      <td>155752.60</td>\n",
              "    </tr>\n",
              "  </tbody>\n",
              "</table>\n",
              "</div>"
            ],
            "text/plain": [
              "   R&D Spend  Administration  Marketing Spend       State     Profit\n",
              "1  162597.70       151377.59        443898.53  California  191792.06\n",
              "2  153441.51       101145.55        407934.54     Florida  191050.39\n",
              "4  142107.34        91391.77        366168.42     Florida  166187.94\n",
              "6  134615.46       147198.87        127716.82  California  156122.51\n",
              "7  130298.13       145530.06        323876.68     Florida  155752.60"
            ]
          },
          "execution_count": 6,
          "metadata": {},
          "output_type": "execute_result"
        }
      ],
      "source": [
        "df_sel=df[(df.State==\"California\") | (df.State==\"Florida\")]\n",
        "df_sel.head() # column title and first rows of the dataset"
      ]
    },
    {
      "cell_type": "code",
      "execution_count": 7,
      "id": "32984bcc",
      "metadata": {
        "id": "32984bcc"
      },
      "outputs": [
        {
          "data": {
            "text/plain": [
              "R&D Spend          float64\n",
              "Administration     float64\n",
              "Marketing Spend    float64\n",
              "State               object\n",
              "Profit             float64\n",
              "dtype: object"
            ]
          },
          "execution_count": 7,
          "metadata": {},
          "output_type": "execute_result"
        }
      ],
      "source": [
        "df_sel.dtypes # type of each column  "
      ]
    },
    {
      "cell_type": "markdown",
      "id": "0784375e",
      "metadata": {
        "id": "0784375e"
      },
      "source": [
        "***Encode categorical data*** \n",
        "\n",
        "One-hot encoding of categorical feature _State_"
      ]
    },
    {
      "cell_type": "code",
      "execution_count": 8,
      "id": "0a6b154f",
      "metadata": {
        "id": "0a6b154f"
      },
      "outputs": [
        {
          "data": {
            "text/html": [
              "<div>\n",
              "<style scoped>\n",
              "    .dataframe tbody tr th:only-of-type {\n",
              "        vertical-align: middle;\n",
              "    }\n",
              "\n",
              "    .dataframe tbody tr th {\n",
              "        vertical-align: top;\n",
              "    }\n",
              "\n",
              "    .dataframe thead th {\n",
              "        text-align: right;\n",
              "    }\n",
              "</style>\n",
              "<table border=\"1\" class=\"dataframe\">\n",
              "  <thead>\n",
              "    <tr style=\"text-align: right;\">\n",
              "      <th></th>\n",
              "      <th>California</th>\n",
              "      <th>Florida</th>\n",
              "    </tr>\n",
              "  </thead>\n",
              "  <tbody>\n",
              "    <tr>\n",
              "      <th>1</th>\n",
              "      <td>1</td>\n",
              "      <td>0</td>\n",
              "    </tr>\n",
              "    <tr>\n",
              "      <th>2</th>\n",
              "      <td>0</td>\n",
              "      <td>1</td>\n",
              "    </tr>\n",
              "    <tr>\n",
              "      <th>4</th>\n",
              "      <td>0</td>\n",
              "      <td>1</td>\n",
              "    </tr>\n",
              "    <tr>\n",
              "      <th>6</th>\n",
              "      <td>1</td>\n",
              "      <td>0</td>\n",
              "    </tr>\n",
              "    <tr>\n",
              "      <th>7</th>\n",
              "      <td>0</td>\n",
              "      <td>1</td>\n",
              "    </tr>\n",
              "  </tbody>\n",
              "</table>\n",
              "</div>"
            ],
            "text/plain": [
              "   California  Florida\n",
              "1           1        0\n",
              "2           0        1\n",
              "4           0        1\n",
              "6           1        0\n",
              "7           0        1"
            ]
          },
          "execution_count": 8,
          "metadata": {},
          "output_type": "execute_result"
        }
      ],
      "source": [
        "df_one = pd.get_dummies(df_sel[\"State\"])\n",
        "df_one.head()"
      ]
    },
    {
      "cell_type": "code",
      "execution_count": 9,
      "id": "74e5d9d7",
      "metadata": {
        "id": "74e5d9d7"
      },
      "outputs": [
        {
          "data": {
            "text/html": [
              "<div>\n",
              "<style scoped>\n",
              "    .dataframe tbody tr th:only-of-type {\n",
              "        vertical-align: middle;\n",
              "    }\n",
              "\n",
              "    .dataframe tbody tr th {\n",
              "        vertical-align: top;\n",
              "    }\n",
              "\n",
              "    .dataframe thead th {\n",
              "        text-align: right;\n",
              "    }\n",
              "</style>\n",
              "<table border=\"1\" class=\"dataframe\">\n",
              "  <thead>\n",
              "    <tr style=\"text-align: right;\">\n",
              "      <th></th>\n",
              "      <th>State</th>\n",
              "      <th>R&amp;D Spend</th>\n",
              "      <th>Administration</th>\n",
              "      <th>Marketing Spend</th>\n",
              "      <th>Profit</th>\n",
              "    </tr>\n",
              "  </thead>\n",
              "  <tbody>\n",
              "    <tr>\n",
              "      <th>1</th>\n",
              "      <td>1</td>\n",
              "      <td>162597.70</td>\n",
              "      <td>151377.59</td>\n",
              "      <td>443898.53</td>\n",
              "      <td>191792.06</td>\n",
              "    </tr>\n",
              "    <tr>\n",
              "      <th>2</th>\n",
              "      <td>0</td>\n",
              "      <td>153441.51</td>\n",
              "      <td>101145.55</td>\n",
              "      <td>407934.54</td>\n",
              "      <td>191050.39</td>\n",
              "    </tr>\n",
              "    <tr>\n",
              "      <th>4</th>\n",
              "      <td>0</td>\n",
              "      <td>142107.34</td>\n",
              "      <td>91391.77</td>\n",
              "      <td>366168.42</td>\n",
              "      <td>166187.94</td>\n",
              "    </tr>\n",
              "    <tr>\n",
              "      <th>6</th>\n",
              "      <td>1</td>\n",
              "      <td>134615.46</td>\n",
              "      <td>147198.87</td>\n",
              "      <td>127716.82</td>\n",
              "      <td>156122.51</td>\n",
              "    </tr>\n",
              "    <tr>\n",
              "      <th>7</th>\n",
              "      <td>0</td>\n",
              "      <td>130298.13</td>\n",
              "      <td>145530.06</td>\n",
              "      <td>323876.68</td>\n",
              "      <td>155752.60</td>\n",
              "    </tr>\n",
              "  </tbody>\n",
              "</table>\n",
              "</div>"
            ],
            "text/plain": [
              "   State  R&D Spend  Administration  Marketing Spend     Profit\n",
              "1      1  162597.70       151377.59        443898.53  191792.06\n",
              "2      0  153441.51       101145.55        407934.54  191050.39\n",
              "4      0  142107.34        91391.77        366168.42  166187.94\n",
              "6      1  134615.46       147198.87        127716.82  156122.51\n",
              "7      0  130298.13       145530.06        323876.68  155752.60"
            ]
          },
          "execution_count": 9,
          "metadata": {},
          "output_type": "execute_result"
        }
      ],
      "source": [
        "# construct the final dataset that you will use for learning and prediction\n",
        "df_fin = pd.concat((df_one, df_sel), axis=1)\n",
        "df_fin = df_fin.drop([\"Florida\"], axis=1)\n",
        "df_fin = df_fin.drop([\"State\"], axis=1)\n",
        "# California is class 1, Florida is class 0\n",
        "df_fin = df_fin.rename(columns={\"California\": \"State\"})\n",
        "df_fin.head()"
      ]
    },
    {
      "cell_type": "markdown",
      "id": "ffced933",
      "metadata": {
        "id": "ffced933"
      },
      "source": [
        "***Normalize***\n",
        "\n",
        "Divide by the absolute value of the maximum so that features are in \\[0, 1\\]"
      ]
    },
    {
      "cell_type": "code",
      "execution_count": 10,
      "id": "eb704286",
      "metadata": {
        "id": "eb704286"
      },
      "outputs": [
        {
          "data": {
            "text/html": [
              "<div>\n",
              "<style scoped>\n",
              "    .dataframe tbody tr th:only-of-type {\n",
              "        vertical-align: middle;\n",
              "    }\n",
              "\n",
              "    .dataframe tbody tr th {\n",
              "        vertical-align: top;\n",
              "    }\n",
              "\n",
              "    .dataframe thead th {\n",
              "        text-align: right;\n",
              "    }\n",
              "</style>\n",
              "<table border=\"1\" class=\"dataframe\">\n",
              "  <thead>\n",
              "    <tr style=\"text-align: right;\">\n",
              "      <th></th>\n",
              "      <th>State</th>\n",
              "      <th>R&amp;D Spend</th>\n",
              "      <th>Administration</th>\n",
              "      <th>Marketing Spend</th>\n",
              "      <th>Profit</th>\n",
              "    </tr>\n",
              "  </thead>\n",
              "  <tbody>\n",
              "    <tr>\n",
              "      <th>1</th>\n",
              "      <td>1.0</td>\n",
              "      <td>1.000000</td>\n",
              "      <td>0.828805</td>\n",
              "      <td>1.000000</td>\n",
              "      <td>1.000000</td>\n",
              "    </tr>\n",
              "    <tr>\n",
              "      <th>2</th>\n",
              "      <td>0.0</td>\n",
              "      <td>0.943688</td>\n",
              "      <td>0.553781</td>\n",
              "      <td>0.918982</td>\n",
              "      <td>0.996133</td>\n",
              "    </tr>\n",
              "    <tr>\n",
              "      <th>4</th>\n",
              "      <td>0.0</td>\n",
              "      <td>0.873981</td>\n",
              "      <td>0.500378</td>\n",
              "      <td>0.824892</td>\n",
              "      <td>0.866501</td>\n",
              "    </tr>\n",
              "    <tr>\n",
              "      <th>6</th>\n",
              "      <td>1.0</td>\n",
              "      <td>0.827905</td>\n",
              "      <td>0.805926</td>\n",
              "      <td>0.287716</td>\n",
              "      <td>0.814020</td>\n",
              "    </tr>\n",
              "    <tr>\n",
              "      <th>7</th>\n",
              "      <td>0.0</td>\n",
              "      <td>0.801353</td>\n",
              "      <td>0.796789</td>\n",
              "      <td>0.729619</td>\n",
              "      <td>0.812091</td>\n",
              "    </tr>\n",
              "  </tbody>\n",
              "</table>\n",
              "</div>"
            ],
            "text/plain": [
              "   State  R&D Spend  Administration  Marketing Spend    Profit\n",
              "1    1.0   1.000000        0.828805         1.000000  1.000000\n",
              "2    0.0   0.943688        0.553781         0.918982  0.996133\n",
              "4    0.0   0.873981        0.500378         0.824892  0.866501\n",
              "6    1.0   0.827905        0.805926         0.287716  0.814020\n",
              "7    0.0   0.801353        0.796789         0.729619  0.812091"
            ]
          },
          "execution_count": 10,
          "metadata": {},
          "output_type": "execute_result"
        }
      ],
      "source": [
        "def absolute_maximum_scale(series):\n",
        "    return series / series.abs().max()\n",
        "\n",
        "for col in df_fin.columns:\n",
        "    df_fin[col] = absolute_maximum_scale(df_fin[col])\n",
        "    \n",
        "df_fin.head()\n"
      ]
    },
    {
      "cell_type": "markdown",
      "id": "563bfeca",
      "metadata": {
        "id": "563bfeca"
      },
      "source": [
        "### ***Classification***"
      ]
    },
    {
      "cell_type": "markdown",
      "id": "5e3406c4",
      "metadata": {
        "id": "5e3406c4"
      },
      "source": [
        "Prepare the dataset:"
      ]
    },
    {
      "cell_type": "code",
      "execution_count": 11,
      "id": "bc04f61d",
      "metadata": {
        "id": "bc04f61d"
      },
      "outputs": [],
      "source": [
        "y = df_fin[\"State\"] # ground truth labels\n",
        "X = df_fin.drop([\"State\"], axis=1) # datapoints features\n",
        "# extract actual values from series \n",
        "y = y.values\n",
        "X = X.values\n"
      ]
    },
    {
      "cell_type": "markdown",
      "id": "7b65051f",
      "metadata": {
        "id": "7b65051f"
      },
      "source": [
        "Train test split\n",
        "\n",
        "$75\\%$ of the data are in the training set, the remaining $25\\%$ constitutes the test set."
      ]
    },
    {
      "cell_type": "code",
      "execution_count": 12,
      "id": "f11e105c",
      "metadata": {
        "id": "f11e105c"
      },
      "outputs": [],
      "source": [
        "from sklearn.model_selection import train_test_split\n",
        "\n",
        "X_train, X_test, y_train, y_test = train_test_split(X, y , test_size=0.25, random_state=0)"
      ]
    },
    {
      "cell_type": "markdown",
      "id": "6fbd6da1",
      "metadata": {},
      "source": [
        "Per avere un'intuizione della correlazione tra le variabili, stampiamo al matrice di correlazione."
      ]
    },
    {
      "cell_type": "code",
      "execution_count": 13,
      "id": "81da2e1a",
      "metadata": {},
      "outputs": [
        {
          "data": {
            "image/png": "[encoded data removed]",
            "text/plain": [
              "<Figure size 432x288 with 2 Axes>"
            ]
          },
          "metadata": {
            "needs_background": "light"
          },
          "output_type": "display_data"
        }
      ],
      "source": [
        "corr = df_fin.corr()\n",
        "fig = plt.figure()\n",
        "ax = fig.add_subplot()\n",
        "cax = ax.matshow(corr, cmap='coolwarm')\n",
        "fig.colorbar(cax)\n",
        "ticks = np.arange(0, len(corr.columns), 1)\n",
        "ax.set_xticks(ticks)\n",
        "ax.set_yticks(ticks)\n",
        "plt.xticks(rotation=90)\n",
        "ax.set_xticklabels(corr.columns)\n",
        "ax.set_yticklabels(corr.columns)\n",
        "plt.show()"
      ]
    },
    {
      "cell_type": "markdown",
      "id": "b36b6194",
      "metadata": {},
      "source": [
        "Sembra esserci poca correlazione tra la variabile categorica State e le altre variabili. \n",
        "Scegliamo di prendere le variabili più correlate e di visualizzare uno scatterplot tra R&S Spend, Administration e State."
      ]
    },
    {
      "cell_type": "code",
      "execution_count": 14,
      "id": "17a621fc",
      "metadata": {},
      "outputs": [
        {
          "data": {
            "image/png": "[encoded data removed]",
            "text/plain": [
              "<Figure size 1152x576 with 2 Axes>"
            ]
          },
          "metadata": {
            "needs_background": "light"
          },
          "output_type": "display_data"
        }
      ],
      "source": [
        "fig, (ax1, ax2) = plt.subplots(1,2, sharex=True, sharey=True, figsize=(16, 8))\n",
        "\n",
        "# Trainig Set\n",
        "ax1.scatter(X_train[:,0], X_train[:,1], c=y_train, s=70)\n",
        "ax1.set_title(\"Trainig Set\")\n",
        "plt.xlabel(\"R&D Spend\")\n",
        "plt.ylabel(\"Adinistration\")\n",
        "plt.title(\"Training Set\")\n",
        "\n",
        "# Test set\n",
        "ax2.scatter(X_test[:,0], X_test[:,1], c=y_test, s=70)\n",
        "ax2.set_title(\"Test Set\")\n",
        "plt.xlabel(\"R&D Spend\")\n",
        "plt.ylabel(\"Adinistration\")\n",
        "plt.title(\"Test Set\")\n",
        "\n",
        "plt.show()"
      ]
    },
    {
      "cell_type": "markdown",
      "id": "5ee09c7e",
      "metadata": {
        "id": "5ee09c7e"
      },
      "source": [
        "### Train the Logistic Regression Model"
      ]
    },
    {
      "cell_type": "code",
      "execution_count": 15,
      "id": "1d4b2d20",
      "metadata": {
        "id": "1d4b2d20"
      },
      "outputs": [
        {
          "data": {
            "text/plain": [
              "0.2222"
            ]
          },
          "execution_count": 15,
          "metadata": {},
          "output_type": "execute_result"
        }
      ],
      "source": [
        "from sklearn.linear_model import LogisticRegression\n",
        "\n",
        "LR = LogisticRegression(random_state=0, solver='lbfgs', penalty='none').fit(X_train, y_train)\n",
        "y_pred = LR.predict(X_test)\n",
        "round(LR.score(X_test,y_test), 4)"
      ]
    },
    {
      "cell_type": "code",
      "execution_count": 16,
      "id": "4dd66b20",
      "metadata": {},
      "outputs": [
        {
          "name": "stdout",
          "output_type": "stream",
          "text": [
            "[1. 1. 1. 0. 0. 1. 1. 1. 0.] \n",
            " [0. 1. 0. 1. 0. 0. 0. 0. 1.]\n"
          ]
        }
      ],
      "source": [
        "print(y_test,\"\\n\", y_pred)\n"
      ]
    },
    {
      "cell_type": "markdown",
      "id": "bdf1c483",
      "metadata": {},
      "source": [
        "Visualizzo la differenza tra Ground Truth e i labels predetti."
      ]
    },
    {
      "cell_type": "code",
      "execution_count": 17,
      "id": "9f965743",
      "metadata": {},
      "outputs": [
        {
          "data": {
            "image/png": "[encoded data removed]",
            "text/plain": [
              "<Figure size 1152x576 with 2 Axes>"
            ]
          },
          "metadata": {
            "needs_background": "light"
          },
          "output_type": "display_data"
        }
      ],
      "source": [
        "fig, (ax1, ax2) = plt.subplots(1,2, sharex=True, sharey=True, figsize=(16, 8))\n",
        "\n",
        "ax1.scatter(X_test[:,0], X_test[:,1], c=y_test, s=70)\n",
        "ax1.set_title(\"Ground Truth\")\n",
        "plt.xlabel(\"R&D Spend\")\n",
        "plt.ylabel(\"Adinistration\")\n",
        "plt.title(\"Ground Truth\")\n",
        "for i, txt in enumerate(y_test):\n",
        "    ax1.annotate(txt, (X_test[:,0][i],X_test[:,1][i]))\n",
        "\n",
        "\n",
        "# Test set\n",
        "ax2.scatter(X_test[:,0], X_test[:,1], c=y_pred, s=70)\n",
        "plt.xlabel(\"R&D Spend\")\n",
        "plt.ylabel(\"Adinistration\")\n",
        "plt.title(\"Predictions\")\n",
        "for i, txt in enumerate(y_pred):\n",
        "    ax2.annotate(txt, (X_test[:,0][i],X_test[:,1][i]))\n",
        "\n",
        "plt.show()\n"
      ]
    },
    {
      "cell_type": "markdown",
      "id": "6f9b7d00",
      "metadata": {
        "id": "6f9b7d00"
      },
      "source": [
        "### ***Plot results***"
      ]
    },
    {
      "cell_type": "code",
      "execution_count": 18,
      "id": "d3677807",
      "metadata": {},
      "outputs": [
        {
          "data": {
            "image/png": "[encoded data removed]",
            "text/plain": [
              "<Figure size 576x576 with 1 Axes>"
            ]
          },
          "metadata": {
            "needs_background": "light"
          },
          "output_type": "display_data"
        }
      ],
      "source": [
        "from sklearn.metrics import classification_report, confusion_matrix\n",
        "cm = confusion_matrix(y_test, y_pred)\n",
        "\n",
        "fig, ax = plt.subplots(figsize=(8, 8))\n",
        "ax.imshow(cm)\n",
        "ax.grid(False)\n",
        "ax.xaxis.set(ticks=(0, 1), ticklabels=('Predicted 0s', 'Predicted 1s'))\n",
        "ax.yaxis.set(ticks=(0, 1), ticklabels=('Actual 0s', 'Actual 1s'))\n",
        "ax.set_ylim(1.5, -0.5)\n",
        "for i in range(2):\n",
        "    for j in range(2):\n",
        "        ax.text(j, i, cm[i, j], ha='center', va='center', color='black', fontsize=18)\n",
        "plt.show()"
      ]
    },
    {
      "cell_type": "code",
      "execution_count": 19,
      "id": "fae229d6",
      "metadata": {
        "id": "fae229d6"
      },
      "outputs": [
        {
          "name": "stdout",
          "output_type": "stream",
          "text": [
            "              precision    recall  f1-score   support\n",
            "\n",
            "  California       0.17      0.33      0.22         3\n",
            "     Florida       0.33      0.17      0.22         6\n",
            "\n",
            "    accuracy                           0.22         9\n",
            "   macro avg       0.25      0.25      0.22         9\n",
            "weighted avg       0.28      0.22      0.22         9\n",
            "\n"
          ]
        }
      ],
      "source": [
        "target_names = ['California', 'Florida']\n",
        "print(classification_report(y_test, y_pred, target_names=target_names))\n"
      ]
    },
    {
      "cell_type": "markdown",
      "id": "0a2a78f4",
      "metadata": {
        "id": "0a2a78f4"
      },
      "source": [
        "***Add regularization***\n",
        "\n",
        "Implement from scratch the regularized logistic regression model (with all the regularization techniques seen during the course). "
      ]
    },
    {
      "cell_type": "markdown",
      "id": "e4744e31",
      "metadata": {},
      "source": [
        "###  RIDGE Logistic Regression"
      ]
    },
    {
      "cell_type": "code",
      "execution_count": 20,
      "id": "68a3e1fa",
      "metadata": {
        "id": "68a3e1fa"
      },
      "outputs": [],
      "source": [
        "import numpy.linalg as LA\n",
        "\n",
        "def sigmoidM(X, w):\n",
        "    \"\"\"\n",
        "    Parameters\n",
        "    ----------\n",
        "    X : array of dim n x d \n",
        "        Matrix containing the dataset\n",
        "    w : array of dim d\n",
        "        Vector representing the coefficients of the logistic model\n",
        "    \"\"\"\n",
        "    y = 1/(1+np.exp(-np.matmul(X,w)))\n",
        "    return y\n",
        "\n",
        "def LogisticLoss(X, y, w):\n",
        "    \"\"\"\n",
        "    Parameters\n",
        "    ----------\n",
        "    X : array of dim n x d\n",
        "        Matrix containing the dataset\n",
        "    y : array of dim n\n",
        "        Vector representing the ground truth label of each data point\n",
        "    w : array of dim d\n",
        "        Vector representing the coefficients of the logistic model\n",
        "    \"\"\"\n",
        "    points = np.shape(X)[0] # numero di righe in X\n",
        "\n",
        "    cost = -(1/points)*np.sum(y*np.log(sigmoidM(X,w)) + (1-y)*np.log(1-sigmoidM(X,w)))\n",
        "    return cost\n",
        "\n",
        "def LogisticGradient(X,y,w, points):\n",
        "    return (2/points)*(np.transpose(X)@(sigmoidM(X,w)-y))"
      ]
    },
    {
      "cell_type": "markdown",
      "id": "6e84661e",
      "metadata": {},
      "source": [
        "Regolarizzazione L2  Ridge"
      ]
    },
    {
      "cell_type": "code",
      "execution_count": 21,
      "id": "5824ead9",
      "metadata": {},
      "outputs": [],
      "source": [
        "def RidgeLogisticLoss(X, y, w, lam):\n",
        "\n",
        "    points = np.shape(X)[0] # numero di righe in X\n",
        "    # ci calcoliamo la loss dalla formula (qui abbiamo scelto di chiamarla cost)\n",
        "    cost = LogisticLoss(X,y,w) + 1/points*lam*LA.norm(w,2)\n",
        "    return cost\n",
        "\n",
        "def RidgeGradient(w, lam):\n",
        "    return 2*lam*w\n",
        "\n",
        "def GDRidgeLogistic(X, y, iter, learning_rate, lam):\n",
        "    \"\"\"\n",
        "    Parameters\n",
        "    ----------\n",
        "    X : array of float dim n x d\n",
        "        Matrix containing the dataset\n",
        "    y : array of float of dim n\n",
        "        Vector containing the ground truth value of each data point\n",
        "    iter : int\n",
        "        Number of GD iterations\n",
        "    gamma : float\n",
        "        Learning rate\n",
        "    points : int\n",
        "        Number of points in our dataset\n",
        "    lam : float\n",
        "        Weight of the L2 penalty term\n",
        "    \"\"\"\n",
        "    d = np.shape(X)\n",
        "    L = np.zeros(iter)\n",
        "    #w = np.zeros(d[1])\n",
        "    w = np.random.uniform(0, 0.01, d[1]) # campioniamo da una uniforme\n",
        "    W = np.zeros((d[1],iter))\n",
        "    for i in range(iter):\n",
        "        W[:,i] = w\n",
        "        w = w - learning_rate * (LogisticGradient(X,y,w,d[0]) + 1/d[0]*RidgeGradient(w, lam))\n",
        "        #w = w - (2*gamma/d[0])*((np.transpose(X)@(sigmoidM(X,w)-y)) + RidgeGradient(w, lam))\n",
        "        L[i] = RidgeLogisticLoss(X,y,w,lam)\n",
        "    return W, L"
      ]
    },
    {
      "cell_type": "code",
      "execution_count": 22,
      "id": "42a21d95",
      "metadata": {},
      "outputs": [
        {
          "name": "stdout",
          "output_type": "stream",
          "text": [
            "L2 Norm of the Difference Between LR Weigths and LR_Ridge Weights:  8.0324607639067\n"
          ]
        },
        {
          "data": {
            "image/png": "[encoded data removed]",
            "text/plain": [
              "<Figure size 432x288 with 1 Axes>"
            ]
          },
          "metadata": {
            "needs_background": "light"
          },
          "output_type": "display_data"
        }
      ],
      "source": [
        "iter = 3000\n",
        "learning_rate = 0.1\n",
        "lam = 0.1\n",
        "w = LR.coef_\n",
        "\n",
        "wgd_Ridge, Loss_Ridge = GDRidgeLogistic(X_train, y_train, iter, learning_rate, lam)\n",
        "# ottengo i coefficienti finali perndendo l'ultima riga dell'array wdg_Ridge\n",
        "wpred_Ridge = wgd_Ridge[:,-1]\n",
        "# ottengo le labels predette\n",
        "y_pred_Ridge = sigmoidM(X_test, wpred_Ridge)\n",
        "y_pred_Ridge = np.where(y_pred_Ridge>0.5,1,0)\n",
        "# calcolo la differenza in norma2 tra i pesi del modello LR e quelli del modello LR_Ridge\n",
        "print('L2 Norm of the Difference Between LR Weigths and LR_Ridge Weights: ',\n",
        "      LA.norm(w-wpred_Ridge,2))\n",
        "\n",
        "# plot dell'evoluzione della Loss al variare delle iterazioni\n",
        "plt.plot(Loss_Ridge)\n",
        "plt.title('Loss Ridge')\n",
        "plt.xlabel('Iter')\n",
        "plt.ylabel('Loss')\n",
        "plt.show()\n"
      ]
    },
    {
      "cell_type": "code",
      "execution_count": 23,
      "id": "01516a2c",
      "metadata": {},
      "outputs": [
        {
          "name": "stdout",
          "output_type": "stream",
          "text": [
            "              precision    recall  f1-score   support\n",
            "\n",
            "  California       0.20      0.33      0.25         3\n",
            "     Florida       0.50      0.33      0.40         6\n",
            "\n",
            "    accuracy                           0.33         9\n",
            "   macro avg       0.35      0.33      0.33         9\n",
            "weighted avg       0.40      0.33      0.35         9\n",
            "\n"
          ]
        }
      ],
      "source": [
        "# classification report         \n",
        "target_names = ['California', 'Florida']\n",
        "print(classification_report(y_test, y_pred_Ridge, target_names=target_names))"
      ]
    },
    {
      "cell_type": "markdown",
      "id": "8213a0f3",
      "metadata": {},
      "source": [
        "implementazione con Sklearn"
      ]
    },
    {
      "cell_type": "code",
      "execution_count": 24,
      "id": "47ce20ce",
      "metadata": {},
      "outputs": [
        {
          "name": "stdout",
          "output_type": "stream",
          "text": [
            "              precision    recall  f1-score   support\n",
            "\n",
            "  California       0.33      1.00      0.50         3\n",
            "     Florida       0.00      0.00      0.00         6\n",
            "\n",
            "    accuracy                           0.33         9\n",
            "   macro avg       0.17      0.50      0.25         9\n",
            "weighted avg       0.11      0.33      0.17         9\n",
            "\n"
          ]
        },
        {
          "name": "stderr",
          "output_type": "stream",
          "text": [
            "/Library/Frameworks/Python.framework/Versions/3.10/lib/python3.10/site-packages/sklearn/metrics/_classification.py:1334: UndefinedMetricWarning: Precision and F-score are ill-defined and being set to 0.0 in labels with no predicted samples. Use `zero_division` parameter to control this behavior.\n",
            "  _warn_prf(average, modifier, msg_start, len(result))\n",
            "/Library/Frameworks/Python.framework/Versions/3.10/lib/python3.10/site-packages/sklearn/metrics/_classification.py:1334: UndefinedMetricWarning: Precision and F-score are ill-defined and being set to 0.0 in labels with no predicted samples. Use `zero_division` parameter to control this behavior.\n",
            "  _warn_prf(average, modifier, msg_start, len(result))\n",
            "/Library/Frameworks/Python.framework/Versions/3.10/lib/python3.10/site-packages/sklearn/metrics/_classification.py:1334: UndefinedMetricWarning: Precision and F-score are ill-defined and being set to 0.0 in labels with no predicted samples. Use `zero_division` parameter to control this behavior.\n",
            "  _warn_prf(average, modifier, msg_start, len(result))\n"
          ]
        }
      ],
      "source": [
        "LR_Ridge_sklearn = LogisticRegression(random_state=0, solver='saga', penalty= \"l2\").fit(X_train, y_train)\n",
        "y_pred_Ridge_sklearn = LR_Ridge_sklearn.predict(X_test)\n",
        "# e poi guardiamo la accuratezza nel testset\n",
        "print(classification_report(y_test, y_pred_Ridge_sklearn, target_names=target_names))"
      ]
    },
    {
      "cell_type": "markdown",
      "id": "d4eeba3d",
      "metadata": {},
      "source": [
        "### LASSO Logistic Regression"
      ]
    },
    {
      "cell_type": "code",
      "execution_count": 25,
      "id": "748a9f63",
      "metadata": {},
      "outputs": [],
      "source": [
        "def LassoLogisticLoss(X, y, w, lam):\n",
        "    \"\"\"\n",
        "    Parameters\n",
        "    ----------\n",
        "    X : array of float dim n x d\n",
        "        Matrix containing the dataset\n",
        "    y : array of float of dim n\n",
        "        Vector containing the ground truth value of each data point\n",
        "    w : array of float of dim d\n",
        "        Weights of the fitted line\n",
        "    lam : float\n",
        "        Weight of the L1 penalty term\n",
        "    \"\"\"\n",
        "    points = np.shape(X)[0] # numero di righe in X\n",
        "    # Loss function\n",
        "    cost = LogisticLoss(X,y,w) + 1/points*lam*LA.norm(w,1)\n",
        "    return cost\n",
        "\n",
        "def L1_subgradient(z): \n",
        "    g = np.ones(z.shape)\n",
        "    g[z < 0.] = -1.0\n",
        "    return g\n",
        "\n",
        "def LassoGradient(w, lam):\n",
        "    return lam * L1_subgradient(w)\n",
        "\n",
        "def GDLassoLogistic(X, y, iter, learning_rate,lam):\n",
        "    \"\"\"\n",
        "    Parameters\n",
        "    ----------\n",
        "    X : array of float dim n x d\n",
        "        Matrix containing the dataset\n",
        "    y : array of float of dim n\n",
        "        Vector containing the ground truth value of each data point\n",
        "    iter : int\n",
        "        Number of GD iterations\n",
        "    gamma : float\n",
        "        Learning rate\n",
        "    points : int\n",
        "        Number of points in our dataset\n",
        "    d : int\n",
        "        Dimensionality of each data point in the dataset\n",
        "    lam : float\n",
        "        Weight of the L2 penalty term\n",
        "    \"\"\"\n",
        "    d = np.shape(X)\n",
        "    L = np.zeros(iter)\n",
        "    #w = np.zeros(d[1])\n",
        "    w = np.random.uniform(0, 0.01, d[1]) # campioniamo da una uniforme\n",
        "    W = np.zeros((d[1],iter))\n",
        "    for i in range(iter):\n",
        "        W[:,i] = w\n",
        "        w = w - learning_rate * (LogisticGradient(X,y,w,d[0]) + 1/d[0]*LassoGradient(w, lam))\n",
        "        L[i] = LassoLogisticLoss(X,y,w,lam)\n",
        "    return W, L"
      ]
    },
    {
      "cell_type": "code",
      "execution_count": 26,
      "id": "269bdbfe",
      "metadata": {},
      "outputs": [
        {
          "name": "stdout",
          "output_type": "stream",
          "text": [
            "L2 Norm of the Difference Between LR Weigths and LR_Lasso Weights:  6.185198437302094\n"
          ]
        },
        {
          "data": {
            "image/png": "[encoded data removed]",
            "text/plain": [
              "<Figure size 432x288 with 1 Axes>"
            ]
          },
          "metadata": {
            "needs_background": "light"
          },
          "output_type": "display_data"
        }
      ],
      "source": [
        "iter = 3000\n",
        "learning_rate = 0.1\n",
        "lam = 0.1\n",
        "w = LR.coef_\n",
        "\n",
        "wgd_Lasso, Loss_Lasso = GDLassoLogistic(X_train, y_train, iter, learning_rate, lam)\n",
        "# ottengo i coefficienti finali perndendo l'ultima riga dell'array wdg_Ridge\n",
        "wpred_Lasso= wgd_Lasso[:,-1]\n",
        "y_pred_Lasso = sigmoidM(X_test, wpred_Lasso)\n",
        "y_pred_Lasso = np.where(y_pred_Lasso>0.5,1,0)\n",
        "# calcolo la differenza in norma2 tra i pesi del modello LR e quelli del modello LR_Ridge\n",
        "print('L2 Norm of the Difference Between LR Weigths and LR_Lasso Weights: ',\n",
        "      LA.norm(w-wpred_Lasso,2))\n",
        "\n",
        "\n",
        "# PRINT\n",
        "plt.plot(Loss_Lasso)\n",
        "plt.title('Loss Lasso')\n",
        "plt.xlabel('Iter')\n",
        "plt.ylabel('Loss')\n",
        "plt.show()"
      ]
    },
    {
      "cell_type": "code",
      "execution_count": 27,
      "id": "8ea21ae9",
      "metadata": {},
      "outputs": [
        {
          "name": "stdout",
          "output_type": "stream",
          "text": [
            "              precision    recall  f1-score   support\n",
            "\n",
            "  California       0.20      0.33      0.25         3\n",
            "     Florida       0.50      0.33      0.40         6\n",
            "\n",
            "    accuracy                           0.33         9\n",
            "   macro avg       0.35      0.33      0.33         9\n",
            "weighted avg       0.40      0.33      0.35         9\n",
            "\n"
          ]
        }
      ],
      "source": [
        "print(classification_report(y_test, y_pred_Lasso, target_names=target_names))"
      ]
    },
    {
      "cell_type": "markdown",
      "id": "b9dca424",
      "metadata": {},
      "source": [
        "Implementiamo Lasso Regolarization con sklearn"
      ]
    },
    {
      "cell_type": "code",
      "execution_count": 28,
      "id": "AWSiwxDUJrZz",
      "metadata": {
        "id": "AWSiwxDUJrZz"
      },
      "outputs": [
        {
          "name": "stdout",
          "output_type": "stream",
          "text": [
            "              precision    recall  f1-score   support\n",
            "\n",
            "  California       0.33      1.00      0.50         3\n",
            "     Florida       0.00      0.00      0.00         6\n",
            "\n",
            "    accuracy                           0.33         9\n",
            "   macro avg       0.17      0.50      0.25         9\n",
            "weighted avg       0.11      0.33      0.17         9\n",
            "\n"
          ]
        },
        {
          "name": "stderr",
          "output_type": "stream",
          "text": [
            "/Library/Frameworks/Python.framework/Versions/3.10/lib/python3.10/site-packages/sklearn/metrics/_classification.py:1334: UndefinedMetricWarning: Precision and F-score are ill-defined and being set to 0.0 in labels with no predicted samples. Use `zero_division` parameter to control this behavior.\n",
            "  _warn_prf(average, modifier, msg_start, len(result))\n",
            "/Library/Frameworks/Python.framework/Versions/3.10/lib/python3.10/site-packages/sklearn/metrics/_classification.py:1334: UndefinedMetricWarning: Precision and F-score are ill-defined and being set to 0.0 in labels with no predicted samples. Use `zero_division` parameter to control this behavior.\n",
            "  _warn_prf(average, modifier, msg_start, len(result))\n",
            "/Library/Frameworks/Python.framework/Versions/3.10/lib/python3.10/site-packages/sklearn/metrics/_classification.py:1334: UndefinedMetricWarning: Precision and F-score are ill-defined and being set to 0.0 in labels with no predicted samples. Use `zero_division` parameter to control this behavior.\n",
            "  _warn_prf(average, modifier, msg_start, len(result))\n"
          ]
        }
      ],
      "source": [
        "LR_Lasso_sklearn = LogisticRegression(random_state=0, solver =\"saga\", penalty= 'l1').fit(X_train, y_train)\n",
        "y_pred_Lasso_sklearn = LR_Lasso_sklearn.predict(X_test)\n",
        "# e poi guardiamo la accuratezza nel testset\n",
        "print(classification_report(y_test, y_pred_Lasso_sklearn, target_names=target_names))\n"
      ]
    },
    {
      "cell_type": "markdown",
      "id": "7dff993f",
      "metadata": {},
      "source": [
        "### ElasticNet Logistic Regression"
      ]
    },
    {
      "cell_type": "code",
      "execution_count": 29,
      "id": "1b29e808",
      "metadata": {},
      "outputs": [],
      "source": [
        "def LogisticLoss(X, y, w):\n",
        "    \"\"\"\n",
        "    Parameters\n",
        "    ----------\n",
        "    X : array of dim n x d\n",
        "        Matrix containing the dataset\n",
        "    y : array of dim n\n",
        "        Vector representing the ground truth label of each data point\n",
        "    w : array of dim d\n",
        "        Vector representing the coefficients of the logistic model\n",
        "    \"\"\"\n",
        "    n = np.shape(X)[0] # numero di righe in X\n",
        "    # ci calcoliamo la loss dalla formula (qui abbiamo scelto di chiamarla cost)\n",
        "    cost = -(1/n)*np.sum(y*np.log(sigmoidM(X,w)) + (1-y)*np.log(1-sigmoidM(X,w)))\n",
        "    return cost\n",
        "\n",
        "def LogisticGradient(X,y,w, points):\n",
        "    return (2/points)*(np.transpose(X)@(sigmoidM(X,w)-y))\n",
        "    "
      ]
    },
    {
      "cell_type": "code",
      "execution_count": 30,
      "id": "3c16654a",
      "metadata": {},
      "outputs": [],
      "source": [
        "def ElasticNetSquaredLoss(X, y, w, lr, l, points):\n",
        "    return LogisticLoss(X, y, w) + 1/points*(lr*l*LA.norm(w, 1) + (1-lr)*l*LA.norm(w, 2))\n",
        "\n",
        "def ElasticNetGradient(X, y, w, lr, l, points):\n",
        "    return LogisticGradient(X,y,w,points) + l/points*((1-lr)* RidgeGradient(w, l) + lr*LassoGradient(w, l))\n",
        "\n",
        "def GDElasticNet(X, y, lr, l, iter, learning_rate):\n",
        "    points = X.shape[0]\n",
        "    d = X.shape[1]\n",
        "    W = np.zeros((d, iter))\n",
        "    L = np.zeros(iter)\n",
        "    w = np.random.normal(0, 0.1, d)\n",
        "    for i in range(iter):\n",
        "        W[:,i] = w\n",
        "        w = w - learning_rate * ElasticNetGradient(X, y, w, lr, l, points)\n",
        "        L[i] = ElasticNetSquaredLoss(X, y, w, lr, l, points)\n",
        "    return W, L\n",
        "        "
      ]
    },
    {
      "cell_type": "code",
      "execution_count": 31,
      "id": "fc131f2f",
      "metadata": {},
      "outputs": [
        {
          "name": "stdout",
          "output_type": "stream",
          "text": [
            "L2 norm of the Differenca Between LR Weigths and LR_ElasticNet Weights:  9.412866578340381\n"
          ]
        },
        {
          "data": {
            "image/png": "[encoded data removed]",
            "text/plain": [
              "<Figure size 432x288 with 1 Axes>"
            ]
          },
          "metadata": {
            "needs_background": "light"
          },
          "output_type": "display_data"
        }
      ],
      "source": [
        "iter = 3000\n",
        "learning_rate = 0.1\n",
        "lam = 0.1\n",
        "lr = 0.5\n",
        "\n",
        "wgd_ElasticNet, Loss_ElasticNet = GDElasticNet(X, y, lr, lam, iter, learning_rate)\n",
        "wpred_ElasticNet = wgd_ElasticNet[:,-1]\n",
        "y_pred_ElasticNet = sigmoidM(X_test, wpred_ElasticNet)\n",
        "y_pred_ElasticNet = np.where(y_pred_ElasticNet>0.5,1,0)\n",
        "print('L2 norm of the Differenca Between LR Weigths and LR_ElasticNet Weights: ',\n",
        "      LA.norm(w-wpred_ElasticNet,2))\n",
        "\n",
        "# PRINT\n",
        "plt.plot(Loss_ElasticNet)\n",
        "plt.title('Loss ElasticNet')\n",
        "plt.xlabel('Iter')\n",
        "plt.ylabel('Loss')\n",
        "plt.show()"
      ]
    },
    {
      "cell_type": "code",
      "execution_count": 32,
      "id": "9d35045d",
      "metadata": {},
      "outputs": [
        {
          "name": "stdout",
          "output_type": "stream",
          "text": [
            "              precision    recall  f1-score   support\n",
            "\n",
            "  California       0.20      0.33      0.25         3\n",
            "     Florida       0.50      0.33      0.40         6\n",
            "\n",
            "    accuracy                           0.33         9\n",
            "   macro avg       0.35      0.33      0.33         9\n",
            "weighted avg       0.40      0.33      0.35         9\n",
            "\n"
          ]
        }
      ],
      "source": [
        "print(classification_report(y_test, y_pred_ElasticNet, target_names=target_names))"
      ]
    },
    {
      "cell_type": "markdown",
      "id": "dffa920e",
      "metadata": {},
      "source": [
        "Implementiamo ElasticNet con sklearn"
      ]
    },
    {
      "cell_type": "code",
      "execution_count": 33,
      "id": "d35582d2",
      "metadata": {},
      "outputs": [
        {
          "name": "stdout",
          "output_type": "stream",
          "text": [
            "              precision    recall  f1-score   support\n",
            "\n",
            "  California       0.33      1.00      0.50         3\n",
            "     Florida       0.00      0.00      0.00         6\n",
            "\n",
            "    accuracy                           0.33         9\n",
            "   macro avg       0.17      0.50      0.25         9\n",
            "weighted avg       0.11      0.33      0.17         9\n",
            "\n"
          ]
        },
        {
          "name": "stderr",
          "output_type": "stream",
          "text": [
            "/Library/Frameworks/Python.framework/Versions/3.10/lib/python3.10/site-packages/sklearn/metrics/_classification.py:1334: UndefinedMetricWarning: Precision and F-score are ill-defined and being set to 0.0 in labels with no predicted samples. Use `zero_division` parameter to control this behavior.\n",
            "  _warn_prf(average, modifier, msg_start, len(result))\n",
            "/Library/Frameworks/Python.framework/Versions/3.10/lib/python3.10/site-packages/sklearn/metrics/_classification.py:1334: UndefinedMetricWarning: Precision and F-score are ill-defined and being set to 0.0 in labels with no predicted samples. Use `zero_division` parameter to control this behavior.\n",
            "  _warn_prf(average, modifier, msg_start, len(result))\n",
            "/Library/Frameworks/Python.framework/Versions/3.10/lib/python3.10/site-packages/sklearn/metrics/_classification.py:1334: UndefinedMetricWarning: Precision and F-score are ill-defined and being set to 0.0 in labels with no predicted samples. Use `zero_division` parameter to control this behavior.\n",
            "  _warn_prf(average, modifier, msg_start, len(result))\n"
          ]
        }
      ],
      "source": [
        "LR_ElasticNet_sklearn = LogisticRegression(random_state=0,\n",
        "                                           solver='saga',\n",
        "                                           penalty= 'elasticnet',\n",
        "                                           l1_ratio=0.5).fit(X_train, y_train)\n",
        "y_pred_ElasticNet_sklearn = LR_ElasticNet_sklearn.predict(X_test)\n",
        "# e poi guardiamo la accuratezza nel testset\n",
        "print(classification_report(y_test, y_pred_ElasticNet_sklearn, target_names=target_names))"
      ]
    },
    {
      "cell_type": "markdown",
      "id": "d208a7b9",
      "metadata": {
        "id": "d208a7b9"
      },
      "source": [
        "### ***ROC curve***\n",
        "\n",
        "Implement a function for producing the Receiver Operating Characteristic (ROC) curve.\n",
        "\n",
        "Given true and predicted values, plot the ROC curve using your implemented function."
      ]
    },
    {
      "cell_type": "code",
      "execution_count": 34,
      "id": "944188f5",
      "metadata": {
        "id": "944188f5"
      },
      "outputs": [],
      "source": [
        "def find_metrics(y_true, y_pred_prob, threshold):\n",
        "    \"\"\"\n",
        "    Parameters\n",
        "    ----------\n",
        "    y_true : array of float containing the Ground Truth\n",
        "        \n",
        "    y_pred_prob : Vector containing the predicted probabilities\n",
        "        t\n",
        "    threshold : float\n",
        "    \"\"\"   \n",
        "    tp = 0\n",
        "    fp = 0\n",
        "    tn = 0\n",
        "    fn = 0\n",
        "\n",
        "    # dato il threshold trovo \n",
        "    for i in range(len(y_pred_prob)): \n",
        "        if(y_pred_prob[i] >= threshold):\n",
        "            if(y_true[i] == 1):\n",
        "                tp += 1\n",
        "            else:\n",
        "                fp += 1\n",
        "        elif(y_pred_prob[i] < threshold):\n",
        "            if(y_true[i] == 0):\n",
        "                tn += 1\n",
        "            else:\n",
        "                fn += 1\n",
        "\n",
        "            \n",
        "    tpr = tp/(tp+fn)\n",
        "    fpr = fp/(tn+fp)\n",
        "\n",
        "    return [fpr,tpr]"
      ]
    },
    {
      "cell_type": "code",
      "execution_count": 35,
      "id": "60df7148",
      "metadata": {},
      "outputs": [
        {
          "name": "stdout",
          "output_type": "stream",
          "text": [
            "Sensitivity: 0.17 , Specificity: 0.33\n"
          ]
        }
      ],
      "source": [
        "y_pred_prob = LR.predict_proba(X_test)[:,1]\n",
        "# nel caso in cui la threshold è 0.5\n",
        "fpr,tpr =find_metrics(y_test,y_pred_prob,0.5)\n",
        "# stampo la sensitività e specificità\n",
        "print('Sensitivity: {} ,'.format(round(tpr,2)),'Specificity: {}'.format(round(1-fpr,2)))"
      ]
    },
    {
      "cell_type": "code",
      "execution_count": 36,
      "id": "dfb1e9f1",
      "metadata": {},
      "outputs": [],
      "source": [
        "def create_roc(y_test, y_pred_prob, thresholds):\n",
        "    roc = np.array([])\n",
        "    for threshold in thresholds:\n",
        "        \n",
        "        fpr,tpr =find_metrics(y_test,y_pred_prob, threshold)\n",
        "        roc = np.append(roc, [fpr, tpr])\n",
        "        \n",
        "    return roc.reshape(-1, 2)"
      ]
    },
    {
      "cell_type": "code",
      "execution_count": 37,
      "id": "26987d74",
      "metadata": {},
      "outputs": [
        {
          "data": {
            "text/plain": [
              "Text(0, 0.5, 'True Positive Rate')"
            ]
          },
          "execution_count": 37,
          "metadata": {},
          "output_type": "execute_result"
        },
        {
          "data": {
            "image/png": "[encoded data removed]",
            "text/plain": [
              "<Figure size 1080x504 with 1 Axes>"
            ]
          },
          "metadata": {
            "needs_background": "light"
          },
          "output_type": "display_data"
        }
      ],
      "source": [
        "thresholds = [0,0.05,0.1,0.15,0.2,0.25,0.3,0.35,0.4,0.45,0.5,0.55,0.6,0.65,0.7,0.75,0.8,0.85,0.9,0.95,1]\n",
        "\n",
        "ROC = create_roc(y_test, y_pred_prob, thresholds)\n",
        "\n",
        "plt.figure(figsize=(15,7))\n",
        "plt.scatter(ROC[:,0],ROC[:,1],color='b',s=100)\n",
        "plt.plot([0, 1], [0, 1], 'r--')\n",
        "plt.xlim([0.0, 1.0])\n",
        "plt.ylim([0.0, 1.05])\n",
        "plt.title('ROC Curve',fontsize=20)\n",
        "plt.xlabel('False Positive Rate',fontsize=16)\n",
        "plt.ylabel('True Positive Rate',fontsize=16)\n",
        "\n"
      ]
    },
    {
      "cell_type": "markdown",
      "id": "c4b54f5d",
      "metadata": {},
      "source": [
        "Paragone con sklearn"
      ]
    },
    {
      "cell_type": "code",
      "execution_count": 38,
      "id": "e8f44112",
      "metadata": {},
      "outputs": [
        {
          "data": {
            "image/png": "[encoded data removed]",
            "text/plain": [
              "<Figure size 1080x504 with 1 Axes>"
            ]
          },
          "metadata": {
            "needs_background": "light"
          },
          "output_type": "display_data"
        }
      ],
      "source": [
        "from sklearn.metrics import roc_auc_score\n",
        "from sklearn.metrics import roc_curve\n",
        "\n",
        "logit_roc_auc = roc_auc_score(y_test, y_pred_prob)\n",
        "fpr_sklearn, tpr_sklearn, thresholds = roc_curve(y_test, y_pred_prob)\n",
        "plt.figure(figsize=(15,7))\n",
        "plt.plot(fpr_sklearn, tpr_sklearn,color='b', label='Logistic Regression (area = %0.2f)' % logit_roc_auc)\n",
        "plt.plot([0, 1], [0, 1],'r--')\n",
        "plt.xlim([0.0, 1.0])\n",
        "plt.ylim([0.0, 1.05])\n",
        "plt.xlabel('False Positive Rate',fontsize=16)\n",
        "plt.ylabel('True Positive Rate', fontsize=16)\n",
        "plt.title('ROC SKLEARN', fontsize=20)\n",
        "plt.legend(loc=\"lower right\")\n",
        "plt.show()"
      ]
    }
  ],
  "metadata": {
    "colab": {
      "collapsed_sections": [],
      "provenance": []
    },
    "kernelspec": {
      "display_name": "Python 3.10.7 64-bit",
      "language": "python",
      "name": "python3"
    },
    "language_info": {
      "codemirror_mode": {
        "name": "ipython",
        "version": 3
      },
      "file_extension": ".py",
      "mimetype": "text/x-python",
      "name": "python",
      "nbconvert_exporter": "python",
      "pygments_lexer": "ipython3",
      "version": "3.10.7"
    },
    "vscode": {
      "interpreter": {
        "hash": "aee8b7b246df8f9039afb4144a1f6fd8d2ca17a180786b69acc140d282b71a49"
      }
    }
  },
  "nbformat": 4,
  "nbformat_minor": 5
}
